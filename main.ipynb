{
 "cells": [
  {
   "attachments": {},
   "cell_type": "markdown",
   "metadata": {},
   "source": [
    "# Flightware Analysis\n",
    "*Samarth Chitgopekar* (GitHub: [http-samc](https://github.com/http-samc))"
   ]
  },
  {
   "attachments": {},
   "cell_type": "markdown",
   "metadata": {},
   "source": [
    "## Step 1: Initialize & Import Dependencies, Declare Constants"
   ]
  },
  {
   "cell_type": "code",
   "execution_count": 33,
   "metadata": {},
   "outputs": [
    {
     "data": {
      "text/html": [
       "        <script type=\"text/javascript\">\n",
       "        window.PlotlyConfig = {MathJaxConfig: 'local'};\n",
       "        if (window.MathJax && window.MathJax.Hub && window.MathJax.Hub.Config) {window.MathJax.Hub.Config({SVG: {font: \"STIX-Web\"}});}\n",
       "        if (typeof require !== 'undefined') {\n",
       "        require.undef(\"plotly\");\n",
       "        requirejs.config({\n",
       "            paths: {\n",
       "                'plotly': ['https://cdn.plot.ly/plotly-2.18.0.min']\n",
       "            }\n",
       "        });\n",
       "        require(['plotly'], function(Plotly) {\n",
       "            window._Plotly = Plotly;\n",
       "        });\n",
       "        }\n",
       "        </script>\n",
       "        "
      ]
     },
     "metadata": {},
     "output_type": "display_data"
    }
   ],
   "source": [
    "import csv\n",
    "from datetime import date, time, datetime\n",
    "import numpy as np\n",
    "from plotly.offline import init_notebook_mode, iplot\n",
    "import plotly.graph_objs as go\n",
    "import plotly.io as pio\n",
    "import plotly.figure_factory as ff\n",
    "\n",
    "# Your CSV here\n",
    "DATA_SOURCE = \"./data/nks519.csv\"\n",
    "\n",
    "init_notebook_mode(connected=True)"
   ]
  },
  {
   "attachments": {},
   "cell_type": "markdown",
   "metadata": {},
   "source": [
    "## Step 2: Clean CSV and Parse Into Dictionary"
   ]
  },
  {
   "cell_type": "code",
   "execution_count": 34,
   "metadata": {},
   "outputs": [],
   "source": [
    "DATA = {}\n",
    "\n",
    "def get_month_number(name: str) -> int:\n",
    "    return {\n",
    "        'Jan': 1,\n",
    "        'Feb': 2,\n",
    "        'Mar': 3,\n",
    "        'Apr': 4,\n",
    "        'May': 5,\n",
    "        'Jun': 6,\n",
    "        'Jul': 7,\n",
    "        'Aug': 8,\n",
    "        'Sep': 9,\n",
    "        'Oct': 10,\n",
    "        'Nov': 11,\n",
    "        'Dec': 12\n",
    "    }[name]\n",
    "\n",
    "with open(DATA_SOURCE, \"r\") as f:\n",
    "    reader = csv.reader(f)\n",
    "\n",
    "    for i, row in enumerate(reader):\n",
    "        if i == 0: continue\n",
    "\n",
    "        _flight_date = row[0].replace('Date', '').split('-')\n",
    "        flight_date = date(int(_flight_date[2]), get_month_number(_flight_date[1]), int(_flight_date[0]))\n",
    "\n",
    "        if flight_date > date.today(): continue\n",
    "\n",
    "        _departure = row[4].replace('Departure', '').replace('\\xa0CST', '').replace('\\xa0CDT', '').split(':')\n",
    "        departure = datetime.combine(\n",
    "            flight_date,\n",
    "            time(\n",
    "                int(_departure[0]) + (12 if 'PM' in _departure[1] else 0),\n",
    "                int(_departure[1].replace('AM', '').replace('PM', '')),\n",
    "                0\n",
    "            )\n",
    "        )\n",
    "\n",
    "        _duration = row[6].replace('Duration', '').replace('Scheduled', '').split(':')\n",
    "        duration = int(_duration[0]) * 60 + int(_duration[1]) if len(_duration) == 2 else -1\n",
    "\n",
    "        DATA[flight_date.strftime('%s')] = { 'departure': departure.strftime('%s'), 'duration': duration}"
   ]
  },
  {
   "attachments": {},
   "cell_type": "markdown",
   "metadata": {},
   "source": [
    "## Step 3: Get Final Data for Plots"
   ]
  },
  {
   "cell_type": "code",
   "execution_count": 35,
   "metadata": {},
   "outputs": [],
   "source": [
    "departure_data = list(filter(\n",
    "    lambda d: d > 0,\n",
    "    map(\n",
    "        lambda d: int(DATA[d]['departure']) if DATA[d]['duration'] > 0 else -1,\n",
    "        DATA.keys()\n",
    "    )\n",
    "))\n",
    "\n",
    "duration_data = list(filter(\n",
    "    lambda d: d > 0,\n",
    "    map(\n",
    "        lambda d: DATA[d]['duration'],\n",
    "        DATA.keys()\n",
    "    )\n",
    "))"
   ]
  },
  {
   "attachments": {},
   "cell_type": "markdown",
   "metadata": {},
   "source": [
    "## Step 4: Define Helper Function for Stats"
   ]
  },
  {
   "cell_type": "code",
   "execution_count": 36,
   "metadata": {},
   "outputs": [],
   "source": [
    "def get_data_statistics(data):\n",
    "    return {\n",
    "        'std': np.std(data),\n",
    "        'median': np.median(data),\n",
    "        'mean': np.mean(data),\n",
    "        'min': np.min(data),\n",
    "        'max': np.max(data),\n",
    "        'n': len(data)\n",
    "    }\n",
    "\n",
    "def get_z_score(std, mean, val):\n",
    "    return (val - mean)/std"
   ]
  },
  {
   "attachments": {},
   "cell_type": "markdown",
   "metadata": {},
   "source": [
    "## Plot Flight Duration Over Time"
   ]
  },
  {
   "cell_type": "code",
   "execution_count": 37,
   "metadata": {},
   "outputs": [
    {
     "data": {
      "application/vnd.plotly.v1+json": {
       "config": {
        "plotlyServerURL": "https://plot.ly"
       },
       "data": [
        {
         "type": "scatter",
         "x": [
          "2023-02-01",
          "2023-01-31",
          "2023-01-30",
          "2023-01-29",
          "2023-01-28",
          "2023-01-27",
          "2023-01-26",
          "2023-01-25",
          "2023-01-24",
          "2023-01-23",
          "2023-01-22",
          "2023-01-21",
          "2023-01-20",
          "2023-01-19",
          "2023-01-18",
          "2023-01-17",
          "2023-01-16",
          "2023-01-15",
          "2023-01-14",
          "2023-01-13",
          "2023-01-12",
          "2023-01-11",
          "2023-01-10",
          "2023-01-09",
          "2023-01-08",
          "2023-01-07",
          "2023-01-06",
          "2023-01-05",
          "2023-01-04",
          "2023-01-03",
          "2023-01-02",
          "2023-01-01",
          "2022-12-31",
          "2022-12-30",
          "2022-12-29",
          "2022-12-28",
          "2022-12-27",
          "2022-12-26",
          "2022-12-25",
          "2022-12-22",
          "2022-12-21",
          "2022-12-20",
          "2022-12-19",
          "2022-12-18",
          "2022-12-17",
          "2022-12-16",
          "2022-12-15",
          "2022-12-14",
          "2022-12-13",
          "2022-12-12",
          "2022-12-11",
          "2022-12-10",
          "2022-12-09",
          "2022-12-08",
          "2022-12-07",
          "2022-12-06",
          "2022-12-05",
          "2022-12-04",
          "2022-12-03",
          "2022-12-02",
          "2022-12-01",
          "2022-11-30",
          "2022-11-29",
          "2022-11-28",
          "2022-11-27",
          "2022-11-26",
          "2022-11-25",
          "2022-11-24",
          "2022-11-23",
          "2022-11-22",
          "2022-11-21",
          "2022-11-20",
          "2022-11-19",
          "2022-11-18",
          "2022-11-17",
          "2022-11-16",
          "2022-11-15",
          "2022-11-14",
          "2022-11-13",
          "2022-11-12",
          "2022-11-11",
          "2022-11-10",
          "2022-11-09",
          "2022-11-08",
          "2022-11-07",
          "2022-11-06",
          "2022-11-05",
          "2022-11-04",
          "2022-11-03",
          "2022-11-02",
          "2022-11-01"
         ],
         "y": [
          147,
          154,
          150,
          200,
          144,
          153,
          149,
          144,
          170,
          126,
          145,
          165,
          161,
          151,
          145,
          142,
          146,
          132,
          119,
          117,
          139,
          136,
          123,
          128,
          150,
          139,
          142,
          126,
          147,
          158,
          135,
          136,
          132,
          170,
          152,
          123,
          123,
          133,
          120,
          143,
          140,
          136,
          147,
          132,
          139,
          138,
          136,
          171,
          146,
          137,
          140,
          139,
          136,
          142,
          143,
          144,
          133,
          134,
          136,
          132,
          140,
          144,
          148,
          132,
          136,
          148,
          136,
          149,
          136,
          135,
          139,
          136,
          147,
          141,
          142,
          143,
          143,
          138,
          133,
          131,
          131,
          131,
          128,
          132,
          134,
          122,
          152,
          151,
          135,
          132,
          139
         ]
        }
       ],
       "layout": {
        "template": {
         "data": {
          "bar": [
           {
            "error_x": {
             "color": "#2a3f5f"
            },
            "error_y": {
             "color": "#2a3f5f"
            },
            "marker": {
             "line": {
              "color": "#E5ECF6",
              "width": 0.5
             },
             "pattern": {
              "fillmode": "overlay",
              "size": 10,
              "solidity": 0.2
             }
            },
            "type": "bar"
           }
          ],
          "barpolar": [
           {
            "marker": {
             "line": {
              "color": "#E5ECF6",
              "width": 0.5
             },
             "pattern": {
              "fillmode": "overlay",
              "size": 10,
              "solidity": 0.2
             }
            },
            "type": "barpolar"
           }
          ],
          "carpet": [
           {
            "aaxis": {
             "endlinecolor": "#2a3f5f",
             "gridcolor": "white",
             "linecolor": "white",
             "minorgridcolor": "white",
             "startlinecolor": "#2a3f5f"
            },
            "baxis": {
             "endlinecolor": "#2a3f5f",
             "gridcolor": "white",
             "linecolor": "white",
             "minorgridcolor": "white",
             "startlinecolor": "#2a3f5f"
            },
            "type": "carpet"
           }
          ],
          "choropleth": [
           {
            "colorbar": {
             "outlinewidth": 0,
             "ticks": ""
            },
            "type": "choropleth"
           }
          ],
          "contour": [
           {
            "colorbar": {
             "outlinewidth": 0,
             "ticks": ""
            },
            "colorscale": [
             [
              0,
              "#0d0887"
             ],
             [
              0.1111111111111111,
              "#46039f"
             ],
             [
              0.2222222222222222,
              "#7201a8"
             ],
             [
              0.3333333333333333,
              "#9c179e"
             ],
             [
              0.4444444444444444,
              "#bd3786"
             ],
             [
              0.5555555555555556,
              "#d8576b"
             ],
             [
              0.6666666666666666,
              "#ed7953"
             ],
             [
              0.7777777777777778,
              "#fb9f3a"
             ],
             [
              0.8888888888888888,
              "#fdca26"
             ],
             [
              1,
              "#f0f921"
             ]
            ],
            "type": "contour"
           }
          ],
          "contourcarpet": [
           {
            "colorbar": {
             "outlinewidth": 0,
             "ticks": ""
            },
            "type": "contourcarpet"
           }
          ],
          "heatmap": [
           {
            "colorbar": {
             "outlinewidth": 0,
             "ticks": ""
            },
            "colorscale": [
             [
              0,
              "#0d0887"
             ],
             [
              0.1111111111111111,
              "#46039f"
             ],
             [
              0.2222222222222222,
              "#7201a8"
             ],
             [
              0.3333333333333333,
              "#9c179e"
             ],
             [
              0.4444444444444444,
              "#bd3786"
             ],
             [
              0.5555555555555556,
              "#d8576b"
             ],
             [
              0.6666666666666666,
              "#ed7953"
             ],
             [
              0.7777777777777778,
              "#fb9f3a"
             ],
             [
              0.8888888888888888,
              "#fdca26"
             ],
             [
              1,
              "#f0f921"
             ]
            ],
            "type": "heatmap"
           }
          ],
          "heatmapgl": [
           {
            "colorbar": {
             "outlinewidth": 0,
             "ticks": ""
            },
            "colorscale": [
             [
              0,
              "#0d0887"
             ],
             [
              0.1111111111111111,
              "#46039f"
             ],
             [
              0.2222222222222222,
              "#7201a8"
             ],
             [
              0.3333333333333333,
              "#9c179e"
             ],
             [
              0.4444444444444444,
              "#bd3786"
             ],
             [
              0.5555555555555556,
              "#d8576b"
             ],
             [
              0.6666666666666666,
              "#ed7953"
             ],
             [
              0.7777777777777778,
              "#fb9f3a"
             ],
             [
              0.8888888888888888,
              "#fdca26"
             ],
             [
              1,
              "#f0f921"
             ]
            ],
            "type": "heatmapgl"
           }
          ],
          "histogram": [
           {
            "marker": {
             "pattern": {
              "fillmode": "overlay",
              "size": 10,
              "solidity": 0.2
             }
            },
            "type": "histogram"
           }
          ],
          "histogram2d": [
           {
            "colorbar": {
             "outlinewidth": 0,
             "ticks": ""
            },
            "colorscale": [
             [
              0,
              "#0d0887"
             ],
             [
              0.1111111111111111,
              "#46039f"
             ],
             [
              0.2222222222222222,
              "#7201a8"
             ],
             [
              0.3333333333333333,
              "#9c179e"
             ],
             [
              0.4444444444444444,
              "#bd3786"
             ],
             [
              0.5555555555555556,
              "#d8576b"
             ],
             [
              0.6666666666666666,
              "#ed7953"
             ],
             [
              0.7777777777777778,
              "#fb9f3a"
             ],
             [
              0.8888888888888888,
              "#fdca26"
             ],
             [
              1,
              "#f0f921"
             ]
            ],
            "type": "histogram2d"
           }
          ],
          "histogram2dcontour": [
           {
            "colorbar": {
             "outlinewidth": 0,
             "ticks": ""
            },
            "colorscale": [
             [
              0,
              "#0d0887"
             ],
             [
              0.1111111111111111,
              "#46039f"
             ],
             [
              0.2222222222222222,
              "#7201a8"
             ],
             [
              0.3333333333333333,
              "#9c179e"
             ],
             [
              0.4444444444444444,
              "#bd3786"
             ],
             [
              0.5555555555555556,
              "#d8576b"
             ],
             [
              0.6666666666666666,
              "#ed7953"
             ],
             [
              0.7777777777777778,
              "#fb9f3a"
             ],
             [
              0.8888888888888888,
              "#fdca26"
             ],
             [
              1,
              "#f0f921"
             ]
            ],
            "type": "histogram2dcontour"
           }
          ],
          "mesh3d": [
           {
            "colorbar": {
             "outlinewidth": 0,
             "ticks": ""
            },
            "type": "mesh3d"
           }
          ],
          "parcoords": [
           {
            "line": {
             "colorbar": {
              "outlinewidth": 0,
              "ticks": ""
             }
            },
            "type": "parcoords"
           }
          ],
          "pie": [
           {
            "automargin": true,
            "type": "pie"
           }
          ],
          "scatter": [
           {
            "fillpattern": {
             "fillmode": "overlay",
             "size": 10,
             "solidity": 0.2
            },
            "type": "scatter"
           }
          ],
          "scatter3d": [
           {
            "line": {
             "colorbar": {
              "outlinewidth": 0,
              "ticks": ""
             }
            },
            "marker": {
             "colorbar": {
              "outlinewidth": 0,
              "ticks": ""
             }
            },
            "type": "scatter3d"
           }
          ],
          "scattercarpet": [
           {
            "marker": {
             "colorbar": {
              "outlinewidth": 0,
              "ticks": ""
             }
            },
            "type": "scattercarpet"
           }
          ],
          "scattergeo": [
           {
            "marker": {
             "colorbar": {
              "outlinewidth": 0,
              "ticks": ""
             }
            },
            "type": "scattergeo"
           }
          ],
          "scattergl": [
           {
            "marker": {
             "colorbar": {
              "outlinewidth": 0,
              "ticks": ""
             }
            },
            "type": "scattergl"
           }
          ],
          "scattermapbox": [
           {
            "marker": {
             "colorbar": {
              "outlinewidth": 0,
              "ticks": ""
             }
            },
            "type": "scattermapbox"
           }
          ],
          "scatterpolar": [
           {
            "marker": {
             "colorbar": {
              "outlinewidth": 0,
              "ticks": ""
             }
            },
            "type": "scatterpolar"
           }
          ],
          "scatterpolargl": [
           {
            "marker": {
             "colorbar": {
              "outlinewidth": 0,
              "ticks": ""
             }
            },
            "type": "scatterpolargl"
           }
          ],
          "scatterternary": [
           {
            "marker": {
             "colorbar": {
              "outlinewidth": 0,
              "ticks": ""
             }
            },
            "type": "scatterternary"
           }
          ],
          "surface": [
           {
            "colorbar": {
             "outlinewidth": 0,
             "ticks": ""
            },
            "colorscale": [
             [
              0,
              "#0d0887"
             ],
             [
              0.1111111111111111,
              "#46039f"
             ],
             [
              0.2222222222222222,
              "#7201a8"
             ],
             [
              0.3333333333333333,
              "#9c179e"
             ],
             [
              0.4444444444444444,
              "#bd3786"
             ],
             [
              0.5555555555555556,
              "#d8576b"
             ],
             [
              0.6666666666666666,
              "#ed7953"
             ],
             [
              0.7777777777777778,
              "#fb9f3a"
             ],
             [
              0.8888888888888888,
              "#fdca26"
             ],
             [
              1,
              "#f0f921"
             ]
            ],
            "type": "surface"
           }
          ],
          "table": [
           {
            "cells": {
             "fill": {
              "color": "#EBF0F8"
             },
             "line": {
              "color": "white"
             }
            },
            "header": {
             "fill": {
              "color": "#C8D4E3"
             },
             "line": {
              "color": "white"
             }
            },
            "type": "table"
           }
          ]
         },
         "layout": {
          "annotationdefaults": {
           "arrowcolor": "#2a3f5f",
           "arrowhead": 0,
           "arrowwidth": 1
          },
          "autotypenumbers": "strict",
          "coloraxis": {
           "colorbar": {
            "outlinewidth": 0,
            "ticks": ""
           }
          },
          "colorscale": {
           "diverging": [
            [
             0,
             "#8e0152"
            ],
            [
             0.1,
             "#c51b7d"
            ],
            [
             0.2,
             "#de77ae"
            ],
            [
             0.3,
             "#f1b6da"
            ],
            [
             0.4,
             "#fde0ef"
            ],
            [
             0.5,
             "#f7f7f7"
            ],
            [
             0.6,
             "#e6f5d0"
            ],
            [
             0.7,
             "#b8e186"
            ],
            [
             0.8,
             "#7fbc41"
            ],
            [
             0.9,
             "#4d9221"
            ],
            [
             1,
             "#276419"
            ]
           ],
           "sequential": [
            [
             0,
             "#0d0887"
            ],
            [
             0.1111111111111111,
             "#46039f"
            ],
            [
             0.2222222222222222,
             "#7201a8"
            ],
            [
             0.3333333333333333,
             "#9c179e"
            ],
            [
             0.4444444444444444,
             "#bd3786"
            ],
            [
             0.5555555555555556,
             "#d8576b"
            ],
            [
             0.6666666666666666,
             "#ed7953"
            ],
            [
             0.7777777777777778,
             "#fb9f3a"
            ],
            [
             0.8888888888888888,
             "#fdca26"
            ],
            [
             1,
             "#f0f921"
            ]
           ],
           "sequentialminus": [
            [
             0,
             "#0d0887"
            ],
            [
             0.1111111111111111,
             "#46039f"
            ],
            [
             0.2222222222222222,
             "#7201a8"
            ],
            [
             0.3333333333333333,
             "#9c179e"
            ],
            [
             0.4444444444444444,
             "#bd3786"
            ],
            [
             0.5555555555555556,
             "#d8576b"
            ],
            [
             0.6666666666666666,
             "#ed7953"
            ],
            [
             0.7777777777777778,
             "#fb9f3a"
            ],
            [
             0.8888888888888888,
             "#fdca26"
            ],
            [
             1,
             "#f0f921"
            ]
           ]
          },
          "colorway": [
           "#636efa",
           "#EF553B",
           "#00cc96",
           "#ab63fa",
           "#FFA15A",
           "#19d3f3",
           "#FF6692",
           "#B6E880",
           "#FF97FF",
           "#FECB52"
          ],
          "font": {
           "color": "#2a3f5f"
          },
          "geo": {
           "bgcolor": "white",
           "lakecolor": "white",
           "landcolor": "#E5ECF6",
           "showlakes": true,
           "showland": true,
           "subunitcolor": "white"
          },
          "hoverlabel": {
           "align": "left"
          },
          "hovermode": "closest",
          "mapbox": {
           "style": "light"
          },
          "paper_bgcolor": "white",
          "plot_bgcolor": "#E5ECF6",
          "polar": {
           "angularaxis": {
            "gridcolor": "white",
            "linecolor": "white",
            "ticks": ""
           },
           "bgcolor": "#E5ECF6",
           "radialaxis": {
            "gridcolor": "white",
            "linecolor": "white",
            "ticks": ""
           }
          },
          "scene": {
           "xaxis": {
            "backgroundcolor": "#E5ECF6",
            "gridcolor": "white",
            "gridwidth": 2,
            "linecolor": "white",
            "showbackground": true,
            "ticks": "",
            "zerolinecolor": "white"
           },
           "yaxis": {
            "backgroundcolor": "#E5ECF6",
            "gridcolor": "white",
            "gridwidth": 2,
            "linecolor": "white",
            "showbackground": true,
            "ticks": "",
            "zerolinecolor": "white"
           },
           "zaxis": {
            "backgroundcolor": "#E5ECF6",
            "gridcolor": "white",
            "gridwidth": 2,
            "linecolor": "white",
            "showbackground": true,
            "ticks": "",
            "zerolinecolor": "white"
           }
          },
          "shapedefaults": {
           "line": {
            "color": "#2a3f5f"
           }
          },
          "ternary": {
           "aaxis": {
            "gridcolor": "white",
            "linecolor": "white",
            "ticks": ""
           },
           "baxis": {
            "gridcolor": "white",
            "linecolor": "white",
            "ticks": ""
           },
           "bgcolor": "#E5ECF6",
           "caxis": {
            "gridcolor": "white",
            "linecolor": "white",
            "ticks": ""
           }
          },
          "title": {
           "x": 0.05
          },
          "xaxis": {
           "automargin": true,
           "gridcolor": "white",
           "linecolor": "white",
           "ticks": "",
           "title": {
            "standoff": 15
           },
           "zerolinecolor": "white",
           "zerolinewidth": 2
          },
          "yaxis": {
           "automargin": true,
           "gridcolor": "white",
           "linecolor": "white",
           "ticks": "",
           "title": {
            "standoff": 15
           },
           "zerolinecolor": "white",
           "zerolinewidth": 2
          }
         }
        },
        "title": {
         "text": "Flight Duration vs Flight Departure Date"
        },
        "xaxis": {
         "title": {
          "text": "Flight Departure Date"
         }
        },
        "yaxis": {
         "title": {
          "text": "Flight Duration (mins)"
         }
        }
       }
      },
      "text/html": [
       "<div>                            <div id=\"e7b9a089-c787-4b1a-87c5-77cec55b07aa\" class=\"plotly-graph-div\" style=\"height:525px; width:100%;\"></div>            <script type=\"text/javascript\">                require([\"plotly\"], function(Plotly) {                    window.PLOTLYENV=window.PLOTLYENV || {};                                    if (document.getElementById(\"e7b9a089-c787-4b1a-87c5-77cec55b07aa\")) {                    Plotly.newPlot(                        \"e7b9a089-c787-4b1a-87c5-77cec55b07aa\",                        [{\"x\":[\"2023-02-01\",\"2023-01-31\",\"2023-01-30\",\"2023-01-29\",\"2023-01-28\",\"2023-01-27\",\"2023-01-26\",\"2023-01-25\",\"2023-01-24\",\"2023-01-23\",\"2023-01-22\",\"2023-01-21\",\"2023-01-20\",\"2023-01-19\",\"2023-01-18\",\"2023-01-17\",\"2023-01-16\",\"2023-01-15\",\"2023-01-14\",\"2023-01-13\",\"2023-01-12\",\"2023-01-11\",\"2023-01-10\",\"2023-01-09\",\"2023-01-08\",\"2023-01-07\",\"2023-01-06\",\"2023-01-05\",\"2023-01-04\",\"2023-01-03\",\"2023-01-02\",\"2023-01-01\",\"2022-12-31\",\"2022-12-30\",\"2022-12-29\",\"2022-12-28\",\"2022-12-27\",\"2022-12-26\",\"2022-12-25\",\"2022-12-22\",\"2022-12-21\",\"2022-12-20\",\"2022-12-19\",\"2022-12-18\",\"2022-12-17\",\"2022-12-16\",\"2022-12-15\",\"2022-12-14\",\"2022-12-13\",\"2022-12-12\",\"2022-12-11\",\"2022-12-10\",\"2022-12-09\",\"2022-12-08\",\"2022-12-07\",\"2022-12-06\",\"2022-12-05\",\"2022-12-04\",\"2022-12-03\",\"2022-12-02\",\"2022-12-01\",\"2022-11-30\",\"2022-11-29\",\"2022-11-28\",\"2022-11-27\",\"2022-11-26\",\"2022-11-25\",\"2022-11-24\",\"2022-11-23\",\"2022-11-22\",\"2022-11-21\",\"2022-11-20\",\"2022-11-19\",\"2022-11-18\",\"2022-11-17\",\"2022-11-16\",\"2022-11-15\",\"2022-11-14\",\"2022-11-13\",\"2022-11-12\",\"2022-11-11\",\"2022-11-10\",\"2022-11-09\",\"2022-11-08\",\"2022-11-07\",\"2022-11-06\",\"2022-11-05\",\"2022-11-04\",\"2022-11-03\",\"2022-11-02\",\"2022-11-01\"],\"y\":[147,154,150,200,144,153,149,144,170,126,145,165,161,151,145,142,146,132,119,117,139,136,123,128,150,139,142,126,147,158,135,136,132,170,152,123,123,133,120,143,140,136,147,132,139,138,136,171,146,137,140,139,136,142,143,144,133,134,136,132,140,144,148,132,136,148,136,149,136,135,139,136,147,141,142,143,143,138,133,131,131,131,128,132,134,122,152,151,135,132,139],\"type\":\"scatter\"}],                        {\"title\":{\"text\":\"Flight Duration vs Flight Departure Date\"},\"xaxis\":{\"title\":{\"text\":\"Flight Departure Date\"}},\"yaxis\":{\"title\":{\"text\":\"Flight Duration (mins)\"}},\"template\":{\"data\":{\"histogram2dcontour\":[{\"type\":\"histogram2dcontour\",\"colorbar\":{\"outlinewidth\":0,\"ticks\":\"\"},\"colorscale\":[[0.0,\"#0d0887\"],[0.1111111111111111,\"#46039f\"],[0.2222222222222222,\"#7201a8\"],[0.3333333333333333,\"#9c179e\"],[0.4444444444444444,\"#bd3786\"],[0.5555555555555556,\"#d8576b\"],[0.6666666666666666,\"#ed7953\"],[0.7777777777777778,\"#fb9f3a\"],[0.8888888888888888,\"#fdca26\"],[1.0,\"#f0f921\"]]}],\"choropleth\":[{\"type\":\"choropleth\",\"colorbar\":{\"outlinewidth\":0,\"ticks\":\"\"}}],\"histogram2d\":[{\"type\":\"histogram2d\",\"colorbar\":{\"outlinewidth\":0,\"ticks\":\"\"},\"colorscale\":[[0.0,\"#0d0887\"],[0.1111111111111111,\"#46039f\"],[0.2222222222222222,\"#7201a8\"],[0.3333333333333333,\"#9c179e\"],[0.4444444444444444,\"#bd3786\"],[0.5555555555555556,\"#d8576b\"],[0.6666666666666666,\"#ed7953\"],[0.7777777777777778,\"#fb9f3a\"],[0.8888888888888888,\"#fdca26\"],[1.0,\"#f0f921\"]]}],\"heatmap\":[{\"type\":\"heatmap\",\"colorbar\":{\"outlinewidth\":0,\"ticks\":\"\"},\"colorscale\":[[0.0,\"#0d0887\"],[0.1111111111111111,\"#46039f\"],[0.2222222222222222,\"#7201a8\"],[0.3333333333333333,\"#9c179e\"],[0.4444444444444444,\"#bd3786\"],[0.5555555555555556,\"#d8576b\"],[0.6666666666666666,\"#ed7953\"],[0.7777777777777778,\"#fb9f3a\"],[0.8888888888888888,\"#fdca26\"],[1.0,\"#f0f921\"]]}],\"heatmapgl\":[{\"type\":\"heatmapgl\",\"colorbar\":{\"outlinewidth\":0,\"ticks\":\"\"},\"colorscale\":[[0.0,\"#0d0887\"],[0.1111111111111111,\"#46039f\"],[0.2222222222222222,\"#7201a8\"],[0.3333333333333333,\"#9c179e\"],[0.4444444444444444,\"#bd3786\"],[0.5555555555555556,\"#d8576b\"],[0.6666666666666666,\"#ed7953\"],[0.7777777777777778,\"#fb9f3a\"],[0.8888888888888888,\"#fdca26\"],[1.0,\"#f0f921\"]]}],\"contourcarpet\":[{\"type\":\"contourcarpet\",\"colorbar\":{\"outlinewidth\":0,\"ticks\":\"\"}}],\"contour\":[{\"type\":\"contour\",\"colorbar\":{\"outlinewidth\":0,\"ticks\":\"\"},\"colorscale\":[[0.0,\"#0d0887\"],[0.1111111111111111,\"#46039f\"],[0.2222222222222222,\"#7201a8\"],[0.3333333333333333,\"#9c179e\"],[0.4444444444444444,\"#bd3786\"],[0.5555555555555556,\"#d8576b\"],[0.6666666666666666,\"#ed7953\"],[0.7777777777777778,\"#fb9f3a\"],[0.8888888888888888,\"#fdca26\"],[1.0,\"#f0f921\"]]}],\"surface\":[{\"type\":\"surface\",\"colorbar\":{\"outlinewidth\":0,\"ticks\":\"\"},\"colorscale\":[[0.0,\"#0d0887\"],[0.1111111111111111,\"#46039f\"],[0.2222222222222222,\"#7201a8\"],[0.3333333333333333,\"#9c179e\"],[0.4444444444444444,\"#bd3786\"],[0.5555555555555556,\"#d8576b\"],[0.6666666666666666,\"#ed7953\"],[0.7777777777777778,\"#fb9f3a\"],[0.8888888888888888,\"#fdca26\"],[1.0,\"#f0f921\"]]}],\"mesh3d\":[{\"type\":\"mesh3d\",\"colorbar\":{\"outlinewidth\":0,\"ticks\":\"\"}}],\"scatter\":[{\"fillpattern\":{\"fillmode\":\"overlay\",\"size\":10,\"solidity\":0.2},\"type\":\"scatter\"}],\"parcoords\":[{\"type\":\"parcoords\",\"line\":{\"colorbar\":{\"outlinewidth\":0,\"ticks\":\"\"}}}],\"scatterpolargl\":[{\"type\":\"scatterpolargl\",\"marker\":{\"colorbar\":{\"outlinewidth\":0,\"ticks\":\"\"}}}],\"bar\":[{\"error_x\":{\"color\":\"#2a3f5f\"},\"error_y\":{\"color\":\"#2a3f5f\"},\"marker\":{\"line\":{\"color\":\"#E5ECF6\",\"width\":0.5},\"pattern\":{\"fillmode\":\"overlay\",\"size\":10,\"solidity\":0.2}},\"type\":\"bar\"}],\"scattergeo\":[{\"type\":\"scattergeo\",\"marker\":{\"colorbar\":{\"outlinewidth\":0,\"ticks\":\"\"}}}],\"scatterpolar\":[{\"type\":\"scatterpolar\",\"marker\":{\"colorbar\":{\"outlinewidth\":0,\"ticks\":\"\"}}}],\"histogram\":[{\"marker\":{\"pattern\":{\"fillmode\":\"overlay\",\"size\":10,\"solidity\":0.2}},\"type\":\"histogram\"}],\"scattergl\":[{\"type\":\"scattergl\",\"marker\":{\"colorbar\":{\"outlinewidth\":0,\"ticks\":\"\"}}}],\"scatter3d\":[{\"type\":\"scatter3d\",\"line\":{\"colorbar\":{\"outlinewidth\":0,\"ticks\":\"\"}},\"marker\":{\"colorbar\":{\"outlinewidth\":0,\"ticks\":\"\"}}}],\"scattermapbox\":[{\"type\":\"scattermapbox\",\"marker\":{\"colorbar\":{\"outlinewidth\":0,\"ticks\":\"\"}}}],\"scatterternary\":[{\"type\":\"scatterternary\",\"marker\":{\"colorbar\":{\"outlinewidth\":0,\"ticks\":\"\"}}}],\"scattercarpet\":[{\"type\":\"scattercarpet\",\"marker\":{\"colorbar\":{\"outlinewidth\":0,\"ticks\":\"\"}}}],\"carpet\":[{\"aaxis\":{\"endlinecolor\":\"#2a3f5f\",\"gridcolor\":\"white\",\"linecolor\":\"white\",\"minorgridcolor\":\"white\",\"startlinecolor\":\"#2a3f5f\"},\"baxis\":{\"endlinecolor\":\"#2a3f5f\",\"gridcolor\":\"white\",\"linecolor\":\"white\",\"minorgridcolor\":\"white\",\"startlinecolor\":\"#2a3f5f\"},\"type\":\"carpet\"}],\"table\":[{\"cells\":{\"fill\":{\"color\":\"#EBF0F8\"},\"line\":{\"color\":\"white\"}},\"header\":{\"fill\":{\"color\":\"#C8D4E3\"},\"line\":{\"color\":\"white\"}},\"type\":\"table\"}],\"barpolar\":[{\"marker\":{\"line\":{\"color\":\"#E5ECF6\",\"width\":0.5},\"pattern\":{\"fillmode\":\"overlay\",\"size\":10,\"solidity\":0.2}},\"type\":\"barpolar\"}],\"pie\":[{\"automargin\":true,\"type\":\"pie\"}]},\"layout\":{\"autotypenumbers\":\"strict\",\"colorway\":[\"#636efa\",\"#EF553B\",\"#00cc96\",\"#ab63fa\",\"#FFA15A\",\"#19d3f3\",\"#FF6692\",\"#B6E880\",\"#FF97FF\",\"#FECB52\"],\"font\":{\"color\":\"#2a3f5f\"},\"hovermode\":\"closest\",\"hoverlabel\":{\"align\":\"left\"},\"paper_bgcolor\":\"white\",\"plot_bgcolor\":\"#E5ECF6\",\"polar\":{\"bgcolor\":\"#E5ECF6\",\"angularaxis\":{\"gridcolor\":\"white\",\"linecolor\":\"white\",\"ticks\":\"\"},\"radialaxis\":{\"gridcolor\":\"white\",\"linecolor\":\"white\",\"ticks\":\"\"}},\"ternary\":{\"bgcolor\":\"#E5ECF6\",\"aaxis\":{\"gridcolor\":\"white\",\"linecolor\":\"white\",\"ticks\":\"\"},\"baxis\":{\"gridcolor\":\"white\",\"linecolor\":\"white\",\"ticks\":\"\"},\"caxis\":{\"gridcolor\":\"white\",\"linecolor\":\"white\",\"ticks\":\"\"}},\"coloraxis\":{\"colorbar\":{\"outlinewidth\":0,\"ticks\":\"\"}},\"colorscale\":{\"sequential\":[[0.0,\"#0d0887\"],[0.1111111111111111,\"#46039f\"],[0.2222222222222222,\"#7201a8\"],[0.3333333333333333,\"#9c179e\"],[0.4444444444444444,\"#bd3786\"],[0.5555555555555556,\"#d8576b\"],[0.6666666666666666,\"#ed7953\"],[0.7777777777777778,\"#fb9f3a\"],[0.8888888888888888,\"#fdca26\"],[1.0,\"#f0f921\"]],\"sequentialminus\":[[0.0,\"#0d0887\"],[0.1111111111111111,\"#46039f\"],[0.2222222222222222,\"#7201a8\"],[0.3333333333333333,\"#9c179e\"],[0.4444444444444444,\"#bd3786\"],[0.5555555555555556,\"#d8576b\"],[0.6666666666666666,\"#ed7953\"],[0.7777777777777778,\"#fb9f3a\"],[0.8888888888888888,\"#fdca26\"],[1.0,\"#f0f921\"]],\"diverging\":[[0,\"#8e0152\"],[0.1,\"#c51b7d\"],[0.2,\"#de77ae\"],[0.3,\"#f1b6da\"],[0.4,\"#fde0ef\"],[0.5,\"#f7f7f7\"],[0.6,\"#e6f5d0\"],[0.7,\"#b8e186\"],[0.8,\"#7fbc41\"],[0.9,\"#4d9221\"],[1,\"#276419\"]]},\"xaxis\":{\"gridcolor\":\"white\",\"linecolor\":\"white\",\"ticks\":\"\",\"title\":{\"standoff\":15},\"zerolinecolor\":\"white\",\"automargin\":true,\"zerolinewidth\":2},\"yaxis\":{\"gridcolor\":\"white\",\"linecolor\":\"white\",\"ticks\":\"\",\"title\":{\"standoff\":15},\"zerolinecolor\":\"white\",\"automargin\":true,\"zerolinewidth\":2},\"scene\":{\"xaxis\":{\"backgroundcolor\":\"#E5ECF6\",\"gridcolor\":\"white\",\"linecolor\":\"white\",\"showbackground\":true,\"ticks\":\"\",\"zerolinecolor\":\"white\",\"gridwidth\":2},\"yaxis\":{\"backgroundcolor\":\"#E5ECF6\",\"gridcolor\":\"white\",\"linecolor\":\"white\",\"showbackground\":true,\"ticks\":\"\",\"zerolinecolor\":\"white\",\"gridwidth\":2},\"zaxis\":{\"backgroundcolor\":\"#E5ECF6\",\"gridcolor\":\"white\",\"linecolor\":\"white\",\"showbackground\":true,\"ticks\":\"\",\"zerolinecolor\":\"white\",\"gridwidth\":2}},\"shapedefaults\":{\"line\":{\"color\":\"#2a3f5f\"}},\"annotationdefaults\":{\"arrowcolor\":\"#2a3f5f\",\"arrowhead\":0,\"arrowwidth\":1},\"geo\":{\"bgcolor\":\"white\",\"landcolor\":\"#E5ECF6\",\"subunitcolor\":\"white\",\"showland\":true,\"showlakes\":true,\"lakecolor\":\"white\"},\"title\":{\"x\":0.05},\"mapbox\":{\"style\":\"light\"}}}},                        {\"responsive\": true}                    ).then(function(){\n",
       "                            \n",
       "var gd = document.getElementById('e7b9a089-c787-4b1a-87c5-77cec55b07aa');\n",
       "var x = new MutationObserver(function (mutations, observer) {{\n",
       "        var display = window.getComputedStyle(gd).display;\n",
       "        if (!display || display === 'none') {{\n",
       "            console.log([gd, 'removed!']);\n",
       "            Plotly.purge(gd);\n",
       "            observer.disconnect();\n",
       "        }}\n",
       "}});\n",
       "\n",
       "// Listen for the removal of the full notebook cells\n",
       "var notebookContainer = gd.closest('#notebook-container');\n",
       "if (notebookContainer) {{\n",
       "    x.observe(notebookContainer, {childList: true});\n",
       "}}\n",
       "\n",
       "// Listen for the clearing of the current output cell\n",
       "var outputEl = gd.closest('.output');\n",
       "if (outputEl) {{\n",
       "    x.observe(outputEl, {childList: true});\n",
       "}}\n",
       "\n",
       "                        })                };                });            </script>        </div>"
      ]
     },
     "metadata": {},
     "output_type": "display_data"
    }
   ],
   "source": [
    "layout = go.Layout(\n",
    "    title = \"Flight Duration vs Flight Departure Date\",\n",
    "    xaxis = {\"title\": \"Flight Departure Date\"},\n",
    "    yaxis = {\"title\": \"Flight Duration (mins)\"},\n",
    ")\n",
    "\n",
    "fig = go.Figure(layout=layout)\n",
    "\n",
    "fig.add_trace(go.Scatter(\n",
    "    x = list(map(lambda d: date.fromtimestamp(d),departure_data)),\n",
    "    y = duration_data\n",
    "))\n"
   ]
  },
  {
   "attachments": {},
   "cell_type": "markdown",
   "metadata": {},
   "source": [
    "## Plot Histogram"
   ]
  },
  {
   "cell_type": "code",
   "execution_count": 38,
   "metadata": {},
   "outputs": [
    {
     "data": {
      "application/vnd.plotly.v1+json": {
       "config": {
        "plotlyServerURL": "https://plot.ly"
       },
       "data": [
        {
         "autobinx": false,
         "histnorm": "probability density",
         "legendgroup": "distplot",
         "marker": {
          "color": "rgb(31, 119, 180)"
         },
         "name": "distplot",
         "opacity": 0.7,
         "type": "histogram",
         "x": [
          147,
          154,
          150,
          200,
          144,
          153,
          149,
          144,
          170,
          126,
          145,
          165,
          161,
          151,
          145,
          142,
          146,
          132,
          119,
          117,
          139,
          136,
          123,
          128,
          150,
          139,
          142,
          126,
          147,
          158,
          135,
          136,
          132,
          170,
          152,
          123,
          123,
          133,
          120,
          143,
          140,
          136,
          147,
          132,
          139,
          138,
          136,
          171,
          146,
          137,
          140,
          139,
          136,
          142,
          143,
          144,
          133,
          134,
          136,
          132,
          140,
          144,
          148,
          132,
          136,
          148,
          136,
          149,
          136,
          135,
          139,
          136,
          147,
          141,
          142,
          143,
          143,
          138,
          133,
          131,
          131,
          131,
          128,
          132,
          134,
          122,
          152,
          151,
          135,
          132,
          139
         ],
         "xaxis": "x",
         "xbins": {
          "end": 200,
          "size": 1,
          "start": 117
         },
         "yaxis": "y"
        },
        {
         "legendgroup": "distplot",
         "marker": {
          "color": "rgb(31, 119, 180)"
         },
         "mode": "lines",
         "name": "distplot",
         "showlegend": false,
         "type": "scatter",
         "x": [
          117,
          117.166,
          117.332,
          117.498,
          117.664,
          117.83,
          117.996,
          118.162,
          118.328,
          118.494,
          118.66,
          118.826,
          118.992,
          119.158,
          119.324,
          119.49,
          119.656,
          119.822,
          119.988,
          120.154,
          120.32,
          120.486,
          120.652,
          120.818,
          120.984,
          121.15,
          121.316,
          121.482,
          121.648,
          121.814,
          121.98,
          122.146,
          122.312,
          122.478,
          122.644,
          122.81,
          122.976,
          123.142,
          123.30799999999999,
          123.474,
          123.64,
          123.806,
          123.972,
          124.138,
          124.304,
          124.47,
          124.636,
          124.80199999999999,
          124.968,
          125.134,
          125.3,
          125.466,
          125.632,
          125.798,
          125.964,
          126.13,
          126.29599999999999,
          126.462,
          126.628,
          126.794,
          126.96000000000001,
          127.126,
          127.292,
          127.458,
          127.624,
          127.78999999999999,
          127.956,
          128.122,
          128.288,
          128.454,
          128.62,
          128.786,
          128.952,
          129.118,
          129.284,
          129.45,
          129.61599999999999,
          129.782,
          129.948,
          130.114,
          130.28,
          130.446,
          130.612,
          130.778,
          130.944,
          131.11,
          131.276,
          131.442,
          131.608,
          131.774,
          131.94,
          132.106,
          132.272,
          132.438,
          132.60399999999998,
          132.77,
          132.936,
          133.102,
          133.268,
          133.434,
          133.6,
          133.766,
          133.932,
          134.098,
          134.264,
          134.43,
          134.596,
          134.762,
          134.928,
          135.094,
          135.26,
          135.426,
          135.59199999999998,
          135.758,
          135.924,
          136.09,
          136.256,
          136.422,
          136.588,
          136.754,
          136.92000000000002,
          137.086,
          137.252,
          137.418,
          137.584,
          137.75,
          137.916,
          138.082,
          138.248,
          138.414,
          138.57999999999998,
          138.746,
          138.912,
          139.078,
          139.244,
          139.41,
          139.576,
          139.742,
          139.90800000000002,
          140.074,
          140.24,
          140.406,
          140.572,
          140.738,
          140.904,
          141.07,
          141.236,
          141.402,
          141.568,
          141.734,
          141.9,
          142.066,
          142.232,
          142.398,
          142.564,
          142.73,
          142.89600000000002,
          143.062,
          143.228,
          143.394,
          143.56,
          143.726,
          143.892,
          144.058,
          144.224,
          144.39,
          144.556,
          144.722,
          144.888,
          145.054,
          145.22,
          145.386,
          145.552,
          145.718,
          145.88400000000001,
          146.05,
          146.216,
          146.382,
          146.548,
          146.714,
          146.88,
          147.046,
          147.212,
          147.378,
          147.544,
          147.71,
          147.876,
          148.042,
          148.208,
          148.374,
          148.54,
          148.706,
          148.872,
          149.038,
          149.204,
          149.37,
          149.536,
          149.702,
          149.868,
          150.034,
          150.2,
          150.36599999999999,
          150.53199999999998,
          150.698,
          150.864,
          151.03,
          151.196,
          151.362,
          151.528,
          151.69400000000002,
          151.86,
          152.026,
          152.192,
          152.358,
          152.524,
          152.69,
          152.856,
          153.022,
          153.188,
          153.35399999999998,
          153.52,
          153.686,
          153.852,
          154.018,
          154.184,
          154.35,
          154.516,
          154.68200000000002,
          154.848,
          155.014,
          155.18,
          155.346,
          155.512,
          155.678,
          155.844,
          156.01,
          156.176,
          156.34199999999998,
          156.508,
          156.674,
          156.84,
          157.006,
          157.172,
          157.338,
          157.504,
          157.67000000000002,
          157.836,
          158.002,
          158.168,
          158.334,
          158.5,
          158.666,
          158.832,
          158.998,
          159.164,
          159.32999999999998,
          159.496,
          159.662,
          159.828,
          159.994,
          160.16,
          160.326,
          160.492,
          160.65800000000002,
          160.824,
          160.99,
          161.156,
          161.322,
          161.488,
          161.654,
          161.82,
          161.986,
          162.152,
          162.31799999999998,
          162.484,
          162.65,
          162.816,
          162.982,
          163.148,
          163.314,
          163.48,
          163.64600000000002,
          163.812,
          163.978,
          164.144,
          164.31,
          164.476,
          164.642,
          164.808,
          164.974,
          165.14,
          165.30599999999998,
          165.472,
          165.638,
          165.804,
          165.97,
          166.136,
          166.302,
          166.46800000000002,
          166.63400000000001,
          166.8,
          166.966,
          167.132,
          167.298,
          167.464,
          167.63,
          167.796,
          167.962,
          168.128,
          168.29399999999998,
          168.46,
          168.626,
          168.792,
          168.958,
          169.124,
          169.29,
          169.45600000000002,
          169.622,
          169.788,
          169.954,
          170.12,
          170.286,
          170.452,
          170.618,
          170.784,
          170.95,
          171.11599999999999,
          171.28199999999998,
          171.448,
          171.614,
          171.78,
          171.946,
          172.112,
          172.278,
          172.44400000000002,
          172.61,
          172.776,
          172.942,
          173.108,
          173.274,
          173.44,
          173.606,
          173.772,
          173.938,
          174.10399999999998,
          174.27,
          174.436,
          174.602,
          174.768,
          174.934,
          175.1,
          175.266,
          175.43200000000002,
          175.598,
          175.764,
          175.93,
          176.096,
          176.262,
          176.428,
          176.594,
          176.76,
          176.926,
          177.09199999999998,
          177.258,
          177.424,
          177.59,
          177.756,
          177.922,
          178.088,
          178.254,
          178.42000000000002,
          178.586,
          178.752,
          178.918,
          179.084,
          179.25,
          179.416,
          179.582,
          179.748,
          179.914,
          180.07999999999998,
          180.246,
          180.412,
          180.578,
          180.744,
          180.91,
          181.076,
          181.24200000000002,
          181.40800000000002,
          181.574,
          181.74,
          181.906,
          182.072,
          182.238,
          182.404,
          182.57,
          182.736,
          182.902,
          183.06799999999998,
          183.23399999999998,
          183.4,
          183.566,
          183.732,
          183.898,
          184.064,
          184.23000000000002,
          184.39600000000002,
          184.562,
          184.728,
          184.894,
          185.06,
          185.226,
          185.392,
          185.558,
          185.724,
          185.89,
          186.05599999999998,
          186.22199999999998,
          186.388,
          186.554,
          186.72,
          186.886,
          187.05200000000002,
          187.21800000000002,
          187.38400000000001,
          187.55,
          187.716,
          187.882,
          188.048,
          188.214,
          188.38,
          188.546,
          188.712,
          188.878,
          189.04399999999998,
          189.20999999999998,
          189.376,
          189.542,
          189.708,
          189.874,
          190.04000000000002,
          190.20600000000002,
          190.372,
          190.538,
          190.704,
          190.87,
          191.036,
          191.202,
          191.368,
          191.534,
          191.7,
          191.86599999999999,
          192.03199999999998,
          192.19799999999998,
          192.364,
          192.53,
          192.696,
          192.862,
          193.02800000000002,
          193.19400000000002,
          193.36,
          193.526,
          193.692,
          193.858,
          194.024,
          194.19,
          194.356,
          194.522,
          194.688,
          194.85399999999998,
          195.01999999999998,
          195.186,
          195.352,
          195.518,
          195.684,
          195.85,
          196.01600000000002,
          196.18200000000002,
          196.348,
          196.514,
          196.68,
          196.846,
          197.012,
          197.178,
          197.344,
          197.51,
          197.676,
          197.84199999999998,
          198.00799999999998,
          198.174,
          198.34,
          198.506,
          198.672,
          198.838,
          199.00400000000002,
          199.17000000000002,
          199.336,
          199.502,
          199.668,
          199.834
         ],
         "xaxis": "x",
         "y": [
          0.004898246107065695,
          0.005039807639230949,
          0.005182625744756918,
          0.005326644355931415,
          0.005471811500635133,
          0.005618079880841896,
          0.005765407448592302,
          0.005913757975846195,
          0.0060631016144799986,
          0.006213415442574086,
          0.006364683993032974,
          0.0065168997604986515,
          0.00667006368245797,
          0.006824185590409357,
          0.006979284626943853,
          0.007135389624612425,
          0.007292539442497753,
          0.007450783256482901,
          0.0076101807993173,
          0.007770802546716683,
          0.007932729845905657,
          0.008096054983214423,
          0.00826088118757817,
          0.008427322567057182,
          0.00859550397579887,
          0.008765560809196818,
          0.00893763872536887,
          0.009111893291471504,
          0.00928848955379165,
          0.009467601531008474,
          0.009649411630491586,
          0.009834109987998071,
          0.010021893731646652,
          0.010212966171575837,
          0.010407535917235814,
          0.010605815924814044,
          0.010808022477847859,
          0.011014374104632026,
          0.011225090436577987,
          0.011440391012221992,
          0.011660494032105086,
          0.011885615070256293,
          0.012115965748492762,
          0.012351752380208515,
          0.012593174590744808,
          0.012840423921821173,
          0.01309368242785008,
          0.013353121272254338,
          0.013618899332155826,
          0.013891161819996186,
          0.014170038930788092,
          0.014455644523773098,
          0.014748074847277347,
          0.015047407315507438,
          0.015353699345916773,
          0.015666987265589974,
          0.015987285294849923,
          0.01631458461597733,
          0.01664885253455729,
          0.016990031740525272,
          0.01733803967548391,
          0.017692768012300207,
          0.018054082252378045,
          0.018421821445332217,
          0.01879579803507593,
          0.019175797835578046,
          0.01956158013875201,
          0.0199528779561138,
          0.020349398394999187,
          0.02075082316926007,
          0.021156809243483395,
          0.0215669896088907,
          0.02198097418819496,
          0.02239835086582024,
          0.022818686639033036,
          0.023241528884702,
          0.023666406735601792,
          0.024092832559411425,
          0.024520303532834967,
          0.024948303302604214,
          0.025376303724500067,
          0.025803766670979323,
          0.02623014589749742,
          0.026654888957197382,
          0.027077439153285695,
          0.027497237518141954,
          0.027913724808012474,
          0.028326343502025217,
          0.02873453979422378,
          0.029137765567368714,
          0.02953548033737805,
          0.029927153157485557,
          0.030312264471480527,
          0.030690307905750527,
          0.031060791990280934,
          0.03142324179926601,
          0.03177720050255014,
          0.0321222308197438,
          0.032457916369537286,
          0.032783862907464004,
          0.03309969944613725,
          0.03340507925279177,
          0.033699680719800174,
          0.03398320810469647,
          0.034255392137116744,
          0.03451599049095637,
          0.03476478812093168,
          0.03500159746362224,
          0.03522625850394463,
          0.03543863870886501,
          0.035638632830992764,
          0.03582616258549846,
          0.036001176204567664,
          0.03616364787432694,
          0.03631357705985503,
          0.036450987724523605,
          0.03657592745047875,
          0.03668846646759216,
          0.03678869659865977,
          0.03687673012901335,
          0.03695269860903196,
          0.03701675159829295,
          0.03706905536028848,
          0.037109791516749834,
          0.03713915567067227,
          0.03715735600711517,
          0.037164611880770484,
          0.037161152399146496,
          0.037147215010009504,
          0.037123044101461444,
          0.037088889622716156,
          0.037045005733269576,
          0.03699164948774705,
          0.036929079563257604,
          0.03685755503559508,
          0.03677733421010512,
          0.036688673512490194,
          0.03659182644425511,
          0.03648704260691359,
          0.03637456679848083,
          0.03625463818517722,
          0.03612748955067018,
          0.03599334662458449,
          0.035852427491428106,
          0.03570494208050692,
          0.03555109173685179,
          0.03539106887264752,
          0.03522505669815036,
          0.0350532290306027,
          0.034875750179210054,
          0.03469277490383221,
          0.03450444844466797,
          0.03431090661987112,
          0.03411227598773835,
          0.033908674069845865,
          0.03370020963129081,
          0.033486983014008105,
          0.03326908651898905,
          0.03304660483311696,
          0.03281961549626418,
          0.032588189404253204,
          0.03235239134327897,
          0.032112280551410397,
          0.03186791130284123,
          0.031619333510633035,
          0.03136659334379278,
          0.031109733854643218,
          0.03084879561257918,
          0.030583817340450806,
          0.03031483654997588,
          0.030041890172751103,
          0.029765015183609196,
          0.029484249213248215,
          0.029199631147241206,
          0.02891120170871831,
          0.028619004022192363,
          0.02832308415617899,
          0.028023491642435224,
          0.02772027996980954,
          0.027413507050859817,
          0.027103235659551864,
          0.026789533838501627,
          0.026472475274368325,
          0.026152139640142538,
          0.025828612903205175,
          0.02550198759816027,
          0.025172363063564223,
          0.02483984564179484,
          0.024504548841416746,
          0.024166593461513914,
          0.02382610767757297,
          0.02348322708861344,
          0.023138094725375907,
          0.02279086101949585,
          0.0224416837337081,
          0.022090727853254628,
          0.021738165438791347,
          0.021384175441224895,
          0.021028943479047605,
          0.020672661578880123,
          0.020315527880080366,
          0.01995774630442853,
          0.01959952619205577,
          0.019241081904941247,
          0.018882632399467702,
          0.01852440076968621,
          0.018166613763106153,
          0.017809501270987724,
          0.017453295795272793,
          0.017098231894444735,
          0.01674454561075612,
          0.016392473881399864,
          0.016042253936332677,
          0.015694122685572565,
          0.015348316098897903,
          0.015005068580962252,
          0.01466461234490906,
          0.014327176787621932,
          0.013992987869777708,
          0.013662267503878571,
          0.013335232953427048,
          0.013012096246373091,
          0.012693063605900112,
          0.012378334901537667,
          0.0120681031234774,
          0.011762553882840174,
          0.011461864940488429,
          0.011166205766800738,
          0.010875737134629922,
          0.010590610747448145,
          0.010310968904449077,
          0.010036944204125898,
          0.009768659287579194,
          0.009506226622532794,
          0.009249748328750725,
          0.008999316045255081,
          0.008755010839450008,
          0.00851690315796003,
          0.008285052818694846,
          0.00805950904336396,
          0.007840310529380376,
          0.007627485559820869,
          0.00742105214985103,
          0.007221018227778712,
          0.007027381848674399,
          0.0068401314382916965,
          0.006659246064837376,
          0.006484695735981693,
          0.006316441718366831,
          0.00615443687676438,
          0.005998626029954821,
          0.005848946320352252,
          0.005705327594376769,
          0.005567692790585996,
          0.005435958332614205,
          0.005310034524033478,
          0.005189825942344646,
          0.005075231829425891,
          0.004966146475910398,
          0.004862459597133946,
          0.004764056698481139,
          0.004670819428167982,
          0.004582625915723831,
          0.004499351094674459,
          0.004420867008179621,
          0.004347043096637731,
          0.004277746466535786,
          0.004212842140091519,
          0.004152193285502298,
          0.004095661427881263,
          0.004043106641220021,
          0.00399438772196776,
          0.003949362345055208,
          0.00390788720341681,
          0.0038698181322716677,
          0.0038350102196132566,
          0.0038033179045249992,
          0.0037745950650841216,
          0.0037486950977361233,
          0.003725470990116852,
          0.0037047753893668304,
          0.003686460668022267,
          0.0036703789895796575,
          0.0036563823758143225,
          0.003644322777889561,
          0.0036340521532215574,
          0.003625422549967191,
          0.0036182862008783878,
          0.003612495628119253,
          0.003607903760472195,
          0.003604364064169105,
          0.0036017306883749773,
          0.0035998586261270825,
          0.003598603891295139,
          0.003597823711879842,
          0.003597376739711355,
          0.0035971232763489847,
          0.0035969255147213566,
          0.0035966477957859017,
          0.003596156879230534,
          0.0035953222269921687,
          0.0035940162981290148,
          0.0035921148533592283,
          0.003589497267370407,
          0.003586046846815121,
          0.003581651151738986,
          0.003576202318042922,
          0.0035695973784607674,
          0.003561738579439863,
          0.003552533691246551,
          0.003541896308581381,
          0.003529746138981543,
          0.00351600927631011,
          0.0035006184566836935,
          0.0034835132942712915,
          0.0034646404945070917,
          0.003443954042396996,
          0.0034214153637624847,
          0.003396993457453102,
          0.0033706649967694146,
          0.0033424143985689952,
          0.0033122338587766517,
          0.003280123353283705,
          0.003246090603497536,
          0.003210151006088115,
          0.003172327526769898,
          0.0031326505582533067,
          0.003091157742794776,
          0.0030478937600668973,
          0.00300291008135666,
          0.002956264691376553,
          0.0029080217792389947,
          0.002858251400394928,
          0.002807029111571141,
          0.002754435580954526,
          0.0027005561760647077,
          0.002645480531924859,
          0.002589302102285785,
          0.002532117696775958,
          0.002474027006942232,
          0.002415132124209502,
          0.002355537052823554,
          0.002295347220849934,
          0.002234668992282164,
          0.002173609183266528,
          0.0021122745853790893,
          0.0020507714987936625,
          0.0019892052780592752,
          0.0019276798930649994,
          0.0018662975076078252,
          0.001805158077800649,
          0.001744358972363214,
          0.0016839946166307066,
          0.0016241561618962484,
          0.0015649311814767012,
          0.0015064033946581676,
          0.00144865241944115,
          0.0013917535547676612,
          0.0013357775926767094,
          0.0012807906606015292,
          0.0012268540937949005,
          0.0011740243376498715,
          0.001122352879473082,
          0.0010718862090693868,
          0.001022665807311034,
          0.0009747281616923926,
          0.0009281048077151281,
          0.0008828223948080926,
          0.0008389027753624459,
          0.0007963631153560507,
          0.0007552160249524472,
          0.0007154697073881339,
          0.0006771281244081097,
          0.0006401911764729764,
          0.000604654895940929,
          0.0005705116514240339,
          0.0005377503615295009,
          0.0005063567162228117,
          0.0004763134040883478,
          0.00044760034381514994,
          0.0004201949182978301,
          0.0003940722098153189,
          0.00036920523483152207,
          0.0003455651770502498,
          0.0003231216174517313,
          0.00030184276013708265,
          0.0002816956529102352,
          0.00026264640163176605,
          0.0002446603774852836,
          0.00022770241640318085,
          0.0002117370100035833,
          0.00019672848749308902,
          0.00018264118808999948,
          0.00016943962361870522,
          0.00015708863101749382,
          0.00014555351458857003,
          0.00013480017789976737,
          0.0001247952453221181,
          0.0001155061732557661,
          0.00010690135115820382,
          0.00009895019254358954,
          0.00009162321616982823,
          0.00008489211767100381,
          0.0000787298319270962,
          0.00007311058649044446,
          0.00006800994640976725,
          0.00006340485080769085,
          0.00005927364157717521,
          0.000055596084566411044,
          0.00005235338362089612,
          0.00004952818784619442,
          0.00004710459244570543,
          0.000045068133475118554,
          0.00004340577683969278,
          0.00004210590184258602,
          0.00004115827957267482,
          0.00004055404639922394,
          0.00004028567281890023,
          0.0000403469278784638,
          0.000040732839374537184,
          0.00004143965001060371,
          0.00004246476967126149,
          0.00004380672395518396,
          0.00004546509909159073,
          0.00004744048335065235,
          0.00004973440504644744,
          0.000052349267222149115,
          0.000055288279101206295,
          0.00005855538438564603,
          0.00006215518648334559,
          0.00006609287075027325,
          0.00007037412384136246,
          0.00007500505027480353,
          0.00007999208632902553,
          0.00008534191140945317,
          0.00009106135704303092,
          0.00009715731368228646,
          0.00010363663552715958,
          0.00011050604360163569,
          0.00011777202735289746,
          0.00012544074507314448,
          0.0001335179234777286,
          0.00014200875680749243,
          0.0001509178058576681,
          0.00016024889736989667,
          0.00017000502425732484,
          0.00018018824716471214,
          0.000190799597895652,
          0.00020183898526668841,
          0.0002133051039727102,
          0.00022519534706918863,
          0.00023750572269389558,
          0.00025023077566319274,
          0.00026336351458554536,
          0.0002768953451370051,
          0.0002908160101395767,
          0.00030511353707365034,
          0.0003197741936393338,
          0.0003347824519586821,
          0.0003501209619812698,
          0.00036577053461918054,
          0.000381710135094356,
          0.0003979168869314305,
          0.00041436608697295146,
          0.00043103123173141245,
          0.00044788405532408744,
          0.0004648945791629598,
          0.0004820311734933515,
          0.0004992606307916947,
          0.0005165482509463985,
          0.0005338579380559238,
          0.0005511523085865485,
          0.0005683928105391763,
          0.0005855398531810621,
          0.0006025529468053173,
          0.0006193908518896092,
          0.0006360117369363814,
          0.0006523733441911456,
          0.0006684331623542042,
          0.0006841486053250268,
          0.0006994771959486857,
          0.0007143767536710069,
          0.0007288055849542243,
          0.0007427226752585367,
          0.0007560878813580436,
          0.0007688621227323848,
          0.0007810075707584753,
          0.0007924878344207121,
          0.0008032681412628554,
          0.0008133155123207092,
          0.0008225989298019398,
          0.000831089496317541,
          0.000838760584518527,
          0.0008455879760510118,
          0.0008515499888125236,
          0.0008566275915715769,
          0.0008608045051005075,
          0.0008640672890676499,
          0.0008664054140382036,
          0.0008678113180425612
         ],
         "yaxis": "y"
        },
        {
         "legendgroup": "distplot",
         "marker": {
          "color": "rgb(31, 119, 180)",
          "symbol": "line-ns-open"
         },
         "mode": "markers",
         "name": "distplot",
         "showlegend": false,
         "type": "scatter",
         "x": [
          147,
          154,
          150,
          200,
          144,
          153,
          149,
          144,
          170,
          126,
          145,
          165,
          161,
          151,
          145,
          142,
          146,
          132,
          119,
          117,
          139,
          136,
          123,
          128,
          150,
          139,
          142,
          126,
          147,
          158,
          135,
          136,
          132,
          170,
          152,
          123,
          123,
          133,
          120,
          143,
          140,
          136,
          147,
          132,
          139,
          138,
          136,
          171,
          146,
          137,
          140,
          139,
          136,
          142,
          143,
          144,
          133,
          134,
          136,
          132,
          140,
          144,
          148,
          132,
          136,
          148,
          136,
          149,
          136,
          135,
          139,
          136,
          147,
          141,
          142,
          143,
          143,
          138,
          133,
          131,
          131,
          131,
          128,
          132,
          134,
          122,
          152,
          151,
          135,
          132,
          139
         ],
         "xaxis": "x",
         "y": [
          "distplot",
          "distplot",
          "distplot",
          "distplot",
          "distplot",
          "distplot",
          "distplot",
          "distplot",
          "distplot",
          "distplot",
          "distplot",
          "distplot",
          "distplot",
          "distplot",
          "distplot",
          "distplot",
          "distplot",
          "distplot",
          "distplot",
          "distplot",
          "distplot",
          "distplot",
          "distplot",
          "distplot",
          "distplot",
          "distplot",
          "distplot",
          "distplot",
          "distplot",
          "distplot",
          "distplot",
          "distplot",
          "distplot",
          "distplot",
          "distplot",
          "distplot",
          "distplot",
          "distplot",
          "distplot",
          "distplot",
          "distplot",
          "distplot",
          "distplot",
          "distplot",
          "distplot",
          "distplot",
          "distplot",
          "distplot",
          "distplot",
          "distplot",
          "distplot",
          "distplot",
          "distplot",
          "distplot",
          "distplot",
          "distplot",
          "distplot",
          "distplot",
          "distplot",
          "distplot",
          "distplot",
          "distplot",
          "distplot",
          "distplot",
          "distplot",
          "distplot",
          "distplot",
          "distplot",
          "distplot",
          "distplot",
          "distplot",
          "distplot",
          "distplot",
          "distplot",
          "distplot",
          "distplot",
          "distplot",
          "distplot",
          "distplot",
          "distplot",
          "distplot",
          "distplot",
          "distplot",
          "distplot",
          "distplot",
          "distplot",
          "distplot",
          "distplot",
          "distplot",
          "distplot",
          "distplot"
         ],
         "yaxis": "y2"
        }
       ],
       "layout": {
        "barmode": "overlay",
        "hovermode": "closest",
        "legend": {
         "traceorder": "reversed"
        },
        "template": {
         "data": {
          "bar": [
           {
            "error_x": {
             "color": "#2a3f5f"
            },
            "error_y": {
             "color": "#2a3f5f"
            },
            "marker": {
             "line": {
              "color": "#E5ECF6",
              "width": 0.5
             },
             "pattern": {
              "fillmode": "overlay",
              "size": 10,
              "solidity": 0.2
             }
            },
            "type": "bar"
           }
          ],
          "barpolar": [
           {
            "marker": {
             "line": {
              "color": "#E5ECF6",
              "width": 0.5
             },
             "pattern": {
              "fillmode": "overlay",
              "size": 10,
              "solidity": 0.2
             }
            },
            "type": "barpolar"
           }
          ],
          "carpet": [
           {
            "aaxis": {
             "endlinecolor": "#2a3f5f",
             "gridcolor": "white",
             "linecolor": "white",
             "minorgridcolor": "white",
             "startlinecolor": "#2a3f5f"
            },
            "baxis": {
             "endlinecolor": "#2a3f5f",
             "gridcolor": "white",
             "linecolor": "white",
             "minorgridcolor": "white",
             "startlinecolor": "#2a3f5f"
            },
            "type": "carpet"
           }
          ],
          "choropleth": [
           {
            "colorbar": {
             "outlinewidth": 0,
             "ticks": ""
            },
            "type": "choropleth"
           }
          ],
          "contour": [
           {
            "colorbar": {
             "outlinewidth": 0,
             "ticks": ""
            },
            "colorscale": [
             [
              0,
              "#0d0887"
             ],
             [
              0.1111111111111111,
              "#46039f"
             ],
             [
              0.2222222222222222,
              "#7201a8"
             ],
             [
              0.3333333333333333,
              "#9c179e"
             ],
             [
              0.4444444444444444,
              "#bd3786"
             ],
             [
              0.5555555555555556,
              "#d8576b"
             ],
             [
              0.6666666666666666,
              "#ed7953"
             ],
             [
              0.7777777777777778,
              "#fb9f3a"
             ],
             [
              0.8888888888888888,
              "#fdca26"
             ],
             [
              1,
              "#f0f921"
             ]
            ],
            "type": "contour"
           }
          ],
          "contourcarpet": [
           {
            "colorbar": {
             "outlinewidth": 0,
             "ticks": ""
            },
            "type": "contourcarpet"
           }
          ],
          "heatmap": [
           {
            "colorbar": {
             "outlinewidth": 0,
             "ticks": ""
            },
            "colorscale": [
             [
              0,
              "#0d0887"
             ],
             [
              0.1111111111111111,
              "#46039f"
             ],
             [
              0.2222222222222222,
              "#7201a8"
             ],
             [
              0.3333333333333333,
              "#9c179e"
             ],
             [
              0.4444444444444444,
              "#bd3786"
             ],
             [
              0.5555555555555556,
              "#d8576b"
             ],
             [
              0.6666666666666666,
              "#ed7953"
             ],
             [
              0.7777777777777778,
              "#fb9f3a"
             ],
             [
              0.8888888888888888,
              "#fdca26"
             ],
             [
              1,
              "#f0f921"
             ]
            ],
            "type": "heatmap"
           }
          ],
          "heatmapgl": [
           {
            "colorbar": {
             "outlinewidth": 0,
             "ticks": ""
            },
            "colorscale": [
             [
              0,
              "#0d0887"
             ],
             [
              0.1111111111111111,
              "#46039f"
             ],
             [
              0.2222222222222222,
              "#7201a8"
             ],
             [
              0.3333333333333333,
              "#9c179e"
             ],
             [
              0.4444444444444444,
              "#bd3786"
             ],
             [
              0.5555555555555556,
              "#d8576b"
             ],
             [
              0.6666666666666666,
              "#ed7953"
             ],
             [
              0.7777777777777778,
              "#fb9f3a"
             ],
             [
              0.8888888888888888,
              "#fdca26"
             ],
             [
              1,
              "#f0f921"
             ]
            ],
            "type": "heatmapgl"
           }
          ],
          "histogram": [
           {
            "marker": {
             "pattern": {
              "fillmode": "overlay",
              "size": 10,
              "solidity": 0.2
             }
            },
            "type": "histogram"
           }
          ],
          "histogram2d": [
           {
            "colorbar": {
             "outlinewidth": 0,
             "ticks": ""
            },
            "colorscale": [
             [
              0,
              "#0d0887"
             ],
             [
              0.1111111111111111,
              "#46039f"
             ],
             [
              0.2222222222222222,
              "#7201a8"
             ],
             [
              0.3333333333333333,
              "#9c179e"
             ],
             [
              0.4444444444444444,
              "#bd3786"
             ],
             [
              0.5555555555555556,
              "#d8576b"
             ],
             [
              0.6666666666666666,
              "#ed7953"
             ],
             [
              0.7777777777777778,
              "#fb9f3a"
             ],
             [
              0.8888888888888888,
              "#fdca26"
             ],
             [
              1,
              "#f0f921"
             ]
            ],
            "type": "histogram2d"
           }
          ],
          "histogram2dcontour": [
           {
            "colorbar": {
             "outlinewidth": 0,
             "ticks": ""
            },
            "colorscale": [
             [
              0,
              "#0d0887"
             ],
             [
              0.1111111111111111,
              "#46039f"
             ],
             [
              0.2222222222222222,
              "#7201a8"
             ],
             [
              0.3333333333333333,
              "#9c179e"
             ],
             [
              0.4444444444444444,
              "#bd3786"
             ],
             [
              0.5555555555555556,
              "#d8576b"
             ],
             [
              0.6666666666666666,
              "#ed7953"
             ],
             [
              0.7777777777777778,
              "#fb9f3a"
             ],
             [
              0.8888888888888888,
              "#fdca26"
             ],
             [
              1,
              "#f0f921"
             ]
            ],
            "type": "histogram2dcontour"
           }
          ],
          "mesh3d": [
           {
            "colorbar": {
             "outlinewidth": 0,
             "ticks": ""
            },
            "type": "mesh3d"
           }
          ],
          "parcoords": [
           {
            "line": {
             "colorbar": {
              "outlinewidth": 0,
              "ticks": ""
             }
            },
            "type": "parcoords"
           }
          ],
          "pie": [
           {
            "automargin": true,
            "type": "pie"
           }
          ],
          "scatter": [
           {
            "fillpattern": {
             "fillmode": "overlay",
             "size": 10,
             "solidity": 0.2
            },
            "type": "scatter"
           }
          ],
          "scatter3d": [
           {
            "line": {
             "colorbar": {
              "outlinewidth": 0,
              "ticks": ""
             }
            },
            "marker": {
             "colorbar": {
              "outlinewidth": 0,
              "ticks": ""
             }
            },
            "type": "scatter3d"
           }
          ],
          "scattercarpet": [
           {
            "marker": {
             "colorbar": {
              "outlinewidth": 0,
              "ticks": ""
             }
            },
            "type": "scattercarpet"
           }
          ],
          "scattergeo": [
           {
            "marker": {
             "colorbar": {
              "outlinewidth": 0,
              "ticks": ""
             }
            },
            "type": "scattergeo"
           }
          ],
          "scattergl": [
           {
            "marker": {
             "colorbar": {
              "outlinewidth": 0,
              "ticks": ""
             }
            },
            "type": "scattergl"
           }
          ],
          "scattermapbox": [
           {
            "marker": {
             "colorbar": {
              "outlinewidth": 0,
              "ticks": ""
             }
            },
            "type": "scattermapbox"
           }
          ],
          "scatterpolar": [
           {
            "marker": {
             "colorbar": {
              "outlinewidth": 0,
              "ticks": ""
             }
            },
            "type": "scatterpolar"
           }
          ],
          "scatterpolargl": [
           {
            "marker": {
             "colorbar": {
              "outlinewidth": 0,
              "ticks": ""
             }
            },
            "type": "scatterpolargl"
           }
          ],
          "scatterternary": [
           {
            "marker": {
             "colorbar": {
              "outlinewidth": 0,
              "ticks": ""
             }
            },
            "type": "scatterternary"
           }
          ],
          "surface": [
           {
            "colorbar": {
             "outlinewidth": 0,
             "ticks": ""
            },
            "colorscale": [
             [
              0,
              "#0d0887"
             ],
             [
              0.1111111111111111,
              "#46039f"
             ],
             [
              0.2222222222222222,
              "#7201a8"
             ],
             [
              0.3333333333333333,
              "#9c179e"
             ],
             [
              0.4444444444444444,
              "#bd3786"
             ],
             [
              0.5555555555555556,
              "#d8576b"
             ],
             [
              0.6666666666666666,
              "#ed7953"
             ],
             [
              0.7777777777777778,
              "#fb9f3a"
             ],
             [
              0.8888888888888888,
              "#fdca26"
             ],
             [
              1,
              "#f0f921"
             ]
            ],
            "type": "surface"
           }
          ],
          "table": [
           {
            "cells": {
             "fill": {
              "color": "#EBF0F8"
             },
             "line": {
              "color": "white"
             }
            },
            "header": {
             "fill": {
              "color": "#C8D4E3"
             },
             "line": {
              "color": "white"
             }
            },
            "type": "table"
           }
          ]
         },
         "layout": {
          "annotationdefaults": {
           "arrowcolor": "#2a3f5f",
           "arrowhead": 0,
           "arrowwidth": 1
          },
          "autotypenumbers": "strict",
          "coloraxis": {
           "colorbar": {
            "outlinewidth": 0,
            "ticks": ""
           }
          },
          "colorscale": {
           "diverging": [
            [
             0,
             "#8e0152"
            ],
            [
             0.1,
             "#c51b7d"
            ],
            [
             0.2,
             "#de77ae"
            ],
            [
             0.3,
             "#f1b6da"
            ],
            [
             0.4,
             "#fde0ef"
            ],
            [
             0.5,
             "#f7f7f7"
            ],
            [
             0.6,
             "#e6f5d0"
            ],
            [
             0.7,
             "#b8e186"
            ],
            [
             0.8,
             "#7fbc41"
            ],
            [
             0.9,
             "#4d9221"
            ],
            [
             1,
             "#276419"
            ]
           ],
           "sequential": [
            [
             0,
             "#0d0887"
            ],
            [
             0.1111111111111111,
             "#46039f"
            ],
            [
             0.2222222222222222,
             "#7201a8"
            ],
            [
             0.3333333333333333,
             "#9c179e"
            ],
            [
             0.4444444444444444,
             "#bd3786"
            ],
            [
             0.5555555555555556,
             "#d8576b"
            ],
            [
             0.6666666666666666,
             "#ed7953"
            ],
            [
             0.7777777777777778,
             "#fb9f3a"
            ],
            [
             0.8888888888888888,
             "#fdca26"
            ],
            [
             1,
             "#f0f921"
            ]
           ],
           "sequentialminus": [
            [
             0,
             "#0d0887"
            ],
            [
             0.1111111111111111,
             "#46039f"
            ],
            [
             0.2222222222222222,
             "#7201a8"
            ],
            [
             0.3333333333333333,
             "#9c179e"
            ],
            [
             0.4444444444444444,
             "#bd3786"
            ],
            [
             0.5555555555555556,
             "#d8576b"
            ],
            [
             0.6666666666666666,
             "#ed7953"
            ],
            [
             0.7777777777777778,
             "#fb9f3a"
            ],
            [
             0.8888888888888888,
             "#fdca26"
            ],
            [
             1,
             "#f0f921"
            ]
           ]
          },
          "colorway": [
           "#636efa",
           "#EF553B",
           "#00cc96",
           "#ab63fa",
           "#FFA15A",
           "#19d3f3",
           "#FF6692",
           "#B6E880",
           "#FF97FF",
           "#FECB52"
          ],
          "font": {
           "color": "#2a3f5f"
          },
          "geo": {
           "bgcolor": "white",
           "lakecolor": "white",
           "landcolor": "#E5ECF6",
           "showlakes": true,
           "showland": true,
           "subunitcolor": "white"
          },
          "hoverlabel": {
           "align": "left"
          },
          "hovermode": "closest",
          "mapbox": {
           "style": "light"
          },
          "paper_bgcolor": "white",
          "plot_bgcolor": "#E5ECF6",
          "polar": {
           "angularaxis": {
            "gridcolor": "white",
            "linecolor": "white",
            "ticks": ""
           },
           "bgcolor": "#E5ECF6",
           "radialaxis": {
            "gridcolor": "white",
            "linecolor": "white",
            "ticks": ""
           }
          },
          "scene": {
           "xaxis": {
            "backgroundcolor": "#E5ECF6",
            "gridcolor": "white",
            "gridwidth": 2,
            "linecolor": "white",
            "showbackground": true,
            "ticks": "",
            "zerolinecolor": "white"
           },
           "yaxis": {
            "backgroundcolor": "#E5ECF6",
            "gridcolor": "white",
            "gridwidth": 2,
            "linecolor": "white",
            "showbackground": true,
            "ticks": "",
            "zerolinecolor": "white"
           },
           "zaxis": {
            "backgroundcolor": "#E5ECF6",
            "gridcolor": "white",
            "gridwidth": 2,
            "linecolor": "white",
            "showbackground": true,
            "ticks": "",
            "zerolinecolor": "white"
           }
          },
          "shapedefaults": {
           "line": {
            "color": "#2a3f5f"
           }
          },
          "ternary": {
           "aaxis": {
            "gridcolor": "white",
            "linecolor": "white",
            "ticks": ""
           },
           "baxis": {
            "gridcolor": "white",
            "linecolor": "white",
            "ticks": ""
           },
           "bgcolor": "#E5ECF6",
           "caxis": {
            "gridcolor": "white",
            "linecolor": "white",
            "ticks": ""
           }
          },
          "title": {
           "x": 0.05
          },
          "xaxis": {
           "automargin": true,
           "gridcolor": "white",
           "linecolor": "white",
           "ticks": "",
           "title": {
            "standoff": 15
           },
           "zerolinecolor": "white",
           "zerolinewidth": 2
          },
          "yaxis": {
           "automargin": true,
           "gridcolor": "white",
           "linecolor": "white",
           "ticks": "",
           "title": {
            "standoff": 15
           },
           "zerolinecolor": "white",
           "zerolinewidth": 2
          }
         }
        },
        "xaxis": {
         "anchor": "y2",
         "domain": [
          0,
          1
         ],
         "zeroline": false
        },
        "yaxis": {
         "anchor": "free",
         "domain": [
          0.35,
          1
         ],
         "position": 0
        },
        "yaxis2": {
         "anchor": "x",
         "domain": [
          0,
          0.25
         ],
         "dtick": 1,
         "showticklabels": false
        }
       }
      },
      "text/html": [
       "<div>                            <div id=\"cc1da068-891e-4ff2-922d-9f7474fb045f\" class=\"plotly-graph-div\" style=\"height:525px; width:100%;\"></div>            <script type=\"text/javascript\">                require([\"plotly\"], function(Plotly) {                    window.PLOTLYENV=window.PLOTLYENV || {};                                    if (document.getElementById(\"cc1da068-891e-4ff2-922d-9f7474fb045f\")) {                    Plotly.newPlot(                        \"cc1da068-891e-4ff2-922d-9f7474fb045f\",                        [{\"autobinx\":false,\"histnorm\":\"probability density\",\"legendgroup\":\"distplot\",\"marker\":{\"color\":\"rgb(31, 119, 180)\"},\"name\":\"distplot\",\"opacity\":0.7,\"x\":[147,154,150,200,144,153,149,144,170,126,145,165,161,151,145,142,146,132,119,117,139,136,123,128,150,139,142,126,147,158,135,136,132,170,152,123,123,133,120,143,140,136,147,132,139,138,136,171,146,137,140,139,136,142,143,144,133,134,136,132,140,144,148,132,136,148,136,149,136,135,139,136,147,141,142,143,143,138,133,131,131,131,128,132,134,122,152,151,135,132,139],\"xaxis\":\"x\",\"xbins\":{\"end\":200.0,\"size\":1.0,\"start\":117.0},\"yaxis\":\"y\",\"type\":\"histogram\"},{\"legendgroup\":\"distplot\",\"marker\":{\"color\":\"rgb(31, 119, 180)\"},\"mode\":\"lines\",\"name\":\"distplot\",\"showlegend\":false,\"x\":[117.0,117.166,117.332,117.498,117.664,117.83,117.996,118.162,118.328,118.494,118.66,118.826,118.992,119.158,119.324,119.49,119.656,119.822,119.988,120.154,120.32,120.486,120.652,120.818,120.984,121.15,121.316,121.482,121.648,121.814,121.98,122.146,122.312,122.478,122.644,122.81,122.976,123.142,123.30799999999999,123.474,123.64,123.806,123.972,124.138,124.304,124.47,124.636,124.80199999999999,124.968,125.134,125.3,125.466,125.632,125.798,125.964,126.13,126.29599999999999,126.462,126.628,126.794,126.96000000000001,127.126,127.292,127.458,127.624,127.78999999999999,127.956,128.122,128.288,128.454,128.62,128.786,128.952,129.118,129.284,129.45,129.61599999999999,129.782,129.948,130.114,130.28,130.446,130.612,130.778,130.944,131.11,131.276,131.442,131.608,131.774,131.94,132.106,132.272,132.438,132.60399999999998,132.77,132.936,133.102,133.268,133.434,133.6,133.766,133.932,134.098,134.264,134.43,134.596,134.762,134.928,135.094,135.26,135.426,135.59199999999998,135.758,135.924,136.09,136.256,136.422,136.588,136.754,136.92000000000002,137.086,137.252,137.418,137.584,137.75,137.916,138.082,138.248,138.414,138.57999999999998,138.746,138.912,139.078,139.244,139.41,139.576,139.742,139.90800000000002,140.074,140.24,140.406,140.572,140.738,140.904,141.07,141.236,141.402,141.568,141.734,141.9,142.066,142.232,142.398,142.564,142.73,142.89600000000002,143.062,143.228,143.394,143.56,143.726,143.892,144.058,144.224,144.39,144.556,144.722,144.888,145.054,145.22,145.386,145.552,145.718,145.88400000000001,146.05,146.216,146.382,146.548,146.714,146.88,147.046,147.212,147.378,147.544,147.71,147.876,148.042,148.208,148.374,148.54,148.706,148.872,149.038,149.204,149.37,149.536,149.702,149.868,150.034,150.2,150.36599999999999,150.53199999999998,150.698,150.864,151.03,151.196,151.362,151.528,151.69400000000002,151.86,152.026,152.192,152.358,152.524,152.69,152.856,153.022,153.188,153.35399999999998,153.52,153.686,153.852,154.018,154.184,154.35,154.516,154.68200000000002,154.848,155.014,155.18,155.346,155.512,155.678,155.844,156.01,156.176,156.34199999999998,156.508,156.674,156.84,157.006,157.172,157.338,157.504,157.67000000000002,157.836,158.002,158.168,158.334,158.5,158.666,158.832,158.998,159.164,159.32999999999998,159.496,159.662,159.828,159.994,160.16,160.326,160.492,160.65800000000002,160.824,160.99,161.156,161.322,161.488,161.654,161.82,161.986,162.152,162.31799999999998,162.484,162.65,162.816,162.982,163.148,163.314,163.48,163.64600000000002,163.812,163.978,164.144,164.31,164.476,164.642,164.808,164.974,165.14,165.30599999999998,165.472,165.638,165.804,165.97,166.136,166.302,166.46800000000002,166.63400000000001,166.8,166.966,167.132,167.298,167.464,167.63,167.796,167.962,168.128,168.29399999999998,168.46,168.626,168.792,168.958,169.124,169.29,169.45600000000002,169.622,169.788,169.954,170.12,170.286,170.452,170.618,170.784,170.95,171.11599999999999,171.28199999999998,171.448,171.614,171.78,171.946,172.112,172.278,172.44400000000002,172.61,172.776,172.942,173.108,173.274,173.44,173.606,173.772,173.938,174.10399999999998,174.27,174.436,174.602,174.768,174.934,175.1,175.266,175.43200000000002,175.598,175.764,175.93,176.096,176.262,176.428,176.594,176.76,176.926,177.09199999999998,177.258,177.424,177.59,177.756,177.922,178.088,178.254,178.42000000000002,178.586,178.752,178.918,179.084,179.25,179.416,179.582,179.748,179.914,180.07999999999998,180.246,180.412,180.578,180.744,180.91,181.076,181.24200000000002,181.40800000000002,181.574,181.74,181.906,182.072,182.238,182.404,182.57,182.736,182.902,183.06799999999998,183.23399999999998,183.4,183.566,183.732,183.898,184.064,184.23000000000002,184.39600000000002,184.562,184.728,184.894,185.06,185.226,185.392,185.558,185.724,185.89,186.05599999999998,186.22199999999998,186.388,186.554,186.72,186.886,187.05200000000002,187.21800000000002,187.38400000000001,187.55,187.716,187.882,188.048,188.214,188.38,188.546,188.712,188.878,189.04399999999998,189.20999999999998,189.376,189.542,189.708,189.874,190.04000000000002,190.20600000000002,190.372,190.538,190.704,190.87,191.036,191.202,191.368,191.534,191.7,191.86599999999999,192.03199999999998,192.19799999999998,192.364,192.53,192.696,192.862,193.02800000000002,193.19400000000002,193.36,193.526,193.692,193.858,194.024,194.19,194.356,194.522,194.688,194.85399999999998,195.01999999999998,195.186,195.352,195.518,195.684,195.85,196.01600000000002,196.18200000000002,196.348,196.514,196.68,196.846,197.012,197.178,197.344,197.51,197.676,197.84199999999998,198.00799999999998,198.174,198.34,198.506,198.672,198.838,199.00400000000002,199.17000000000002,199.336,199.502,199.668,199.834],\"xaxis\":\"x\",\"y\":[0.004898246107065695,0.005039807639230949,0.005182625744756918,0.005326644355931415,0.005471811500635133,0.005618079880841896,0.005765407448592302,0.005913757975846195,0.0060631016144799986,0.006213415442574086,0.006364683993032974,0.0065168997604986515,0.00667006368245797,0.006824185590409357,0.006979284626943853,0.007135389624612425,0.007292539442497753,0.007450783256482901,0.0076101807993173,0.007770802546716683,0.007932729845905657,0.008096054983214423,0.00826088118757817,0.008427322567057182,0.00859550397579887,0.008765560809196818,0.00893763872536887,0.009111893291471504,0.00928848955379165,0.009467601531008474,0.009649411630491586,0.009834109987998071,0.010021893731646652,0.010212966171575837,0.010407535917235814,0.010605815924814044,0.010808022477847859,0.011014374104632026,0.011225090436577987,0.011440391012221992,0.011660494032105086,0.011885615070256293,0.012115965748492762,0.012351752380208515,0.012593174590744808,0.012840423921821173,0.01309368242785008,0.013353121272254338,0.013618899332155826,0.013891161819996186,0.014170038930788092,0.014455644523773098,0.014748074847277347,0.015047407315507438,0.015353699345916773,0.015666987265589974,0.015987285294849923,0.01631458461597733,0.01664885253455729,0.016990031740525272,0.01733803967548391,0.017692768012300207,0.018054082252378045,0.018421821445332217,0.01879579803507593,0.019175797835578046,0.01956158013875201,0.0199528779561138,0.020349398394999187,0.02075082316926007,0.021156809243483395,0.0215669896088907,0.02198097418819496,0.02239835086582024,0.022818686639033036,0.023241528884702,0.023666406735601792,0.024092832559411425,0.024520303532834967,0.024948303302604214,0.025376303724500067,0.025803766670979323,0.02623014589749742,0.026654888957197382,0.027077439153285695,0.027497237518141954,0.027913724808012474,0.028326343502025217,0.02873453979422378,0.029137765567368714,0.02953548033737805,0.029927153157485557,0.030312264471480527,0.030690307905750527,0.031060791990280934,0.03142324179926601,0.03177720050255014,0.0321222308197438,0.032457916369537286,0.032783862907464004,0.03309969944613725,0.03340507925279177,0.033699680719800174,0.03398320810469647,0.034255392137116744,0.03451599049095637,0.03476478812093168,0.03500159746362224,0.03522625850394463,0.03543863870886501,0.035638632830992764,0.03582616258549846,0.036001176204567664,0.03616364787432694,0.03631357705985503,0.036450987724523605,0.03657592745047875,0.03668846646759216,0.03678869659865977,0.03687673012901335,0.03695269860903196,0.03701675159829295,0.03706905536028848,0.037109791516749834,0.03713915567067227,0.03715735600711517,0.037164611880770484,0.037161152399146496,0.037147215010009504,0.037123044101461444,0.037088889622716156,0.037045005733269576,0.03699164948774705,0.036929079563257604,0.03685755503559508,0.03677733421010512,0.036688673512490194,0.03659182644425511,0.03648704260691359,0.03637456679848083,0.03625463818517722,0.03612748955067018,0.03599334662458449,0.035852427491428106,0.03570494208050692,0.03555109173685179,0.03539106887264752,0.03522505669815036,0.0350532290306027,0.034875750179210054,0.03469277490383221,0.03450444844466797,0.03431090661987112,0.03411227598773835,0.033908674069845865,0.03370020963129081,0.033486983014008105,0.03326908651898905,0.03304660483311696,0.03281961549626418,0.032588189404253204,0.03235239134327897,0.032112280551410397,0.03186791130284123,0.031619333510633035,0.03136659334379278,0.031109733854643218,0.03084879561257918,0.030583817340450806,0.03031483654997588,0.030041890172751103,0.029765015183609196,0.029484249213248215,0.029199631147241206,0.02891120170871831,0.028619004022192363,0.02832308415617899,0.028023491642435224,0.02772027996980954,0.027413507050859817,0.027103235659551864,0.026789533838501627,0.026472475274368325,0.026152139640142538,0.025828612903205175,0.02550198759816027,0.025172363063564223,0.02483984564179484,0.024504548841416746,0.024166593461513914,0.02382610767757297,0.02348322708861344,0.023138094725375907,0.02279086101949585,0.0224416837337081,0.022090727853254628,0.021738165438791347,0.021384175441224895,0.021028943479047605,0.020672661578880123,0.020315527880080366,0.01995774630442853,0.01959952619205577,0.019241081904941247,0.018882632399467702,0.01852440076968621,0.018166613763106153,0.017809501270987724,0.017453295795272793,0.017098231894444735,0.01674454561075612,0.016392473881399864,0.016042253936332677,0.015694122685572565,0.015348316098897903,0.015005068580962252,0.01466461234490906,0.014327176787621932,0.013992987869777708,0.013662267503878571,0.013335232953427048,0.013012096246373091,0.012693063605900112,0.012378334901537667,0.0120681031234774,0.011762553882840174,0.011461864940488429,0.011166205766800738,0.010875737134629922,0.010590610747448145,0.010310968904449077,0.010036944204125898,0.009768659287579194,0.009506226622532794,0.009249748328750725,0.008999316045255081,0.008755010839450008,0.00851690315796003,0.008285052818694846,0.00805950904336396,0.007840310529380376,0.007627485559820869,0.00742105214985103,0.007221018227778712,0.007027381848674399,0.0068401314382916965,0.006659246064837376,0.006484695735981693,0.006316441718366831,0.00615443687676438,0.005998626029954821,0.005848946320352252,0.005705327594376769,0.005567692790585996,0.005435958332614205,0.005310034524033478,0.005189825942344646,0.005075231829425891,0.004966146475910398,0.004862459597133946,0.004764056698481139,0.004670819428167982,0.004582625915723831,0.004499351094674459,0.004420867008179621,0.004347043096637731,0.004277746466535786,0.004212842140091519,0.004152193285502298,0.004095661427881263,0.004043106641220021,0.00399438772196776,0.003949362345055208,0.00390788720341681,0.0038698181322716677,0.0038350102196132566,0.0038033179045249992,0.0037745950650841216,0.0037486950977361233,0.003725470990116852,0.0037047753893668304,0.003686460668022267,0.0036703789895796575,0.0036563823758143225,0.003644322777889561,0.0036340521532215574,0.003625422549967191,0.0036182862008783878,0.003612495628119253,0.003607903760472195,0.003604364064169105,0.0036017306883749773,0.0035998586261270825,0.003598603891295139,0.003597823711879842,0.003597376739711355,0.0035971232763489847,0.0035969255147213566,0.0035966477957859017,0.003596156879230534,0.0035953222269921687,0.0035940162981290148,0.0035921148533592283,0.003589497267370407,0.003586046846815121,0.003581651151738986,0.003576202318042922,0.0035695973784607674,0.003561738579439863,0.003552533691246551,0.003541896308581381,0.003529746138981543,0.00351600927631011,0.0035006184566836935,0.0034835132942712915,0.0034646404945070917,0.003443954042396996,0.0034214153637624847,0.003396993457453102,0.0033706649967694146,0.0033424143985689952,0.0033122338587766517,0.003280123353283705,0.003246090603497536,0.003210151006088115,0.003172327526769898,0.0031326505582533067,0.003091157742794776,0.0030478937600668973,0.00300291008135666,0.002956264691376553,0.0029080217792389947,0.002858251400394928,0.002807029111571141,0.002754435580954526,0.0027005561760647077,0.002645480531924859,0.002589302102285785,0.002532117696775958,0.002474027006942232,0.002415132124209502,0.002355537052823554,0.002295347220849934,0.002234668992282164,0.002173609183266528,0.0021122745853790893,0.0020507714987936625,0.0019892052780592752,0.0019276798930649994,0.0018662975076078252,0.001805158077800649,0.001744358972363214,0.0016839946166307066,0.0016241561618962484,0.0015649311814767012,0.0015064033946581676,0.00144865241944115,0.0013917535547676612,0.0013357775926767094,0.0012807906606015292,0.0012268540937949005,0.0011740243376498715,0.001122352879473082,0.0010718862090693868,0.001022665807311034,0.0009747281616923926,0.0009281048077151281,0.0008828223948080926,0.0008389027753624459,0.0007963631153560507,0.0007552160249524472,0.0007154697073881339,0.0006771281244081097,0.0006401911764729764,0.000604654895940929,0.0005705116514240339,0.0005377503615295009,0.0005063567162228117,0.0004763134040883478,0.00044760034381514994,0.0004201949182978301,0.0003940722098153189,0.00036920523483152207,0.0003455651770502498,0.0003231216174517313,0.00030184276013708265,0.0002816956529102352,0.00026264640163176605,0.0002446603774852836,0.00022770241640318085,0.0002117370100035833,0.00019672848749308902,0.00018264118808999948,0.00016943962361870522,0.00015708863101749382,0.00014555351458857003,0.00013480017789976737,0.0001247952453221181,0.0001155061732557661,0.00010690135115820382,9.895019254358954e-05,9.162321616982823e-05,8.489211767100381e-05,7.87298319270962e-05,7.311058649044446e-05,6.800994640976725e-05,6.340485080769085e-05,5.927364157717521e-05,5.5596084566411044e-05,5.235338362089612e-05,4.952818784619442e-05,4.710459244570543e-05,4.5068133475118554e-05,4.340577683969278e-05,4.210590184258602e-05,4.115827957267482e-05,4.055404639922394e-05,4.028567281890023e-05,4.03469278784638e-05,4.0732839374537184e-05,4.143965001060371e-05,4.246476967126149e-05,4.380672395518396e-05,4.546509909159073e-05,4.744048335065235e-05,4.973440504644744e-05,5.2349267222149115e-05,5.5288279101206295e-05,5.855538438564603e-05,6.215518648334559e-05,6.609287075027325e-05,7.037412384136246e-05,7.500505027480353e-05,7.999208632902553e-05,8.534191140945317e-05,9.106135704303092e-05,9.715731368228646e-05,0.00010363663552715958,0.00011050604360163569,0.00011777202735289746,0.00012544074507314448,0.0001335179234777286,0.00014200875680749243,0.0001509178058576681,0.00016024889736989667,0.00017000502425732484,0.00018018824716471214,0.000190799597895652,0.00020183898526668841,0.0002133051039727102,0.00022519534706918863,0.00023750572269389558,0.00025023077566319274,0.00026336351458554536,0.0002768953451370051,0.0002908160101395767,0.00030511353707365034,0.0003197741936393338,0.0003347824519586821,0.0003501209619812698,0.00036577053461918054,0.000381710135094356,0.0003979168869314305,0.00041436608697295146,0.00043103123173141245,0.00044788405532408744,0.0004648945791629598,0.0004820311734933515,0.0004992606307916947,0.0005165482509463985,0.0005338579380559238,0.0005511523085865485,0.0005683928105391763,0.0005855398531810621,0.0006025529468053173,0.0006193908518896092,0.0006360117369363814,0.0006523733441911456,0.0006684331623542042,0.0006841486053250268,0.0006994771959486857,0.0007143767536710069,0.0007288055849542243,0.0007427226752585367,0.0007560878813580436,0.0007688621227323848,0.0007810075707584753,0.0007924878344207121,0.0008032681412628554,0.0008133155123207092,0.0008225989298019398,0.000831089496317541,0.000838760584518527,0.0008455879760510118,0.0008515499888125236,0.0008566275915715769,0.0008608045051005075,0.0008640672890676499,0.0008664054140382036,0.0008678113180425612],\"yaxis\":\"y\",\"type\":\"scatter\"},{\"legendgroup\":\"distplot\",\"marker\":{\"color\":\"rgb(31, 119, 180)\",\"symbol\":\"line-ns-open\"},\"mode\":\"markers\",\"name\":\"distplot\",\"showlegend\":false,\"x\":[147,154,150,200,144,153,149,144,170,126,145,165,161,151,145,142,146,132,119,117,139,136,123,128,150,139,142,126,147,158,135,136,132,170,152,123,123,133,120,143,140,136,147,132,139,138,136,171,146,137,140,139,136,142,143,144,133,134,136,132,140,144,148,132,136,148,136,149,136,135,139,136,147,141,142,143,143,138,133,131,131,131,128,132,134,122,152,151,135,132,139],\"xaxis\":\"x\",\"y\":[\"distplot\",\"distplot\",\"distplot\",\"distplot\",\"distplot\",\"distplot\",\"distplot\",\"distplot\",\"distplot\",\"distplot\",\"distplot\",\"distplot\",\"distplot\",\"distplot\",\"distplot\",\"distplot\",\"distplot\",\"distplot\",\"distplot\",\"distplot\",\"distplot\",\"distplot\",\"distplot\",\"distplot\",\"distplot\",\"distplot\",\"distplot\",\"distplot\",\"distplot\",\"distplot\",\"distplot\",\"distplot\",\"distplot\",\"distplot\",\"distplot\",\"distplot\",\"distplot\",\"distplot\",\"distplot\",\"distplot\",\"distplot\",\"distplot\",\"distplot\",\"distplot\",\"distplot\",\"distplot\",\"distplot\",\"distplot\",\"distplot\",\"distplot\",\"distplot\",\"distplot\",\"distplot\",\"distplot\",\"distplot\",\"distplot\",\"distplot\",\"distplot\",\"distplot\",\"distplot\",\"distplot\",\"distplot\",\"distplot\",\"distplot\",\"distplot\",\"distplot\",\"distplot\",\"distplot\",\"distplot\",\"distplot\",\"distplot\",\"distplot\",\"distplot\",\"distplot\",\"distplot\",\"distplot\",\"distplot\",\"distplot\",\"distplot\",\"distplot\",\"distplot\",\"distplot\",\"distplot\",\"distplot\",\"distplot\",\"distplot\",\"distplot\",\"distplot\",\"distplot\",\"distplot\",\"distplot\"],\"yaxis\":\"y2\",\"type\":\"scatter\"}],                        {\"barmode\":\"overlay\",\"hovermode\":\"closest\",\"legend\":{\"traceorder\":\"reversed\"},\"xaxis\":{\"anchor\":\"y2\",\"domain\":[0.0,1.0],\"zeroline\":false},\"yaxis\":{\"anchor\":\"free\",\"domain\":[0.35,1],\"position\":0.0},\"yaxis2\":{\"anchor\":\"x\",\"domain\":[0,0.25],\"dtick\":1,\"showticklabels\":false},\"template\":{\"data\":{\"histogram2dcontour\":[{\"type\":\"histogram2dcontour\",\"colorbar\":{\"outlinewidth\":0,\"ticks\":\"\"},\"colorscale\":[[0.0,\"#0d0887\"],[0.1111111111111111,\"#46039f\"],[0.2222222222222222,\"#7201a8\"],[0.3333333333333333,\"#9c179e\"],[0.4444444444444444,\"#bd3786\"],[0.5555555555555556,\"#d8576b\"],[0.6666666666666666,\"#ed7953\"],[0.7777777777777778,\"#fb9f3a\"],[0.8888888888888888,\"#fdca26\"],[1.0,\"#f0f921\"]]}],\"choropleth\":[{\"type\":\"choropleth\",\"colorbar\":{\"outlinewidth\":0,\"ticks\":\"\"}}],\"histogram2d\":[{\"type\":\"histogram2d\",\"colorbar\":{\"outlinewidth\":0,\"ticks\":\"\"},\"colorscale\":[[0.0,\"#0d0887\"],[0.1111111111111111,\"#46039f\"],[0.2222222222222222,\"#7201a8\"],[0.3333333333333333,\"#9c179e\"],[0.4444444444444444,\"#bd3786\"],[0.5555555555555556,\"#d8576b\"],[0.6666666666666666,\"#ed7953\"],[0.7777777777777778,\"#fb9f3a\"],[0.8888888888888888,\"#fdca26\"],[1.0,\"#f0f921\"]]}],\"heatmap\":[{\"type\":\"heatmap\",\"colorbar\":{\"outlinewidth\":0,\"ticks\":\"\"},\"colorscale\":[[0.0,\"#0d0887\"],[0.1111111111111111,\"#46039f\"],[0.2222222222222222,\"#7201a8\"],[0.3333333333333333,\"#9c179e\"],[0.4444444444444444,\"#bd3786\"],[0.5555555555555556,\"#d8576b\"],[0.6666666666666666,\"#ed7953\"],[0.7777777777777778,\"#fb9f3a\"],[0.8888888888888888,\"#fdca26\"],[1.0,\"#f0f921\"]]}],\"heatmapgl\":[{\"type\":\"heatmapgl\",\"colorbar\":{\"outlinewidth\":0,\"ticks\":\"\"},\"colorscale\":[[0.0,\"#0d0887\"],[0.1111111111111111,\"#46039f\"],[0.2222222222222222,\"#7201a8\"],[0.3333333333333333,\"#9c179e\"],[0.4444444444444444,\"#bd3786\"],[0.5555555555555556,\"#d8576b\"],[0.6666666666666666,\"#ed7953\"],[0.7777777777777778,\"#fb9f3a\"],[0.8888888888888888,\"#fdca26\"],[1.0,\"#f0f921\"]]}],\"contourcarpet\":[{\"type\":\"contourcarpet\",\"colorbar\":{\"outlinewidth\":0,\"ticks\":\"\"}}],\"contour\":[{\"type\":\"contour\",\"colorbar\":{\"outlinewidth\":0,\"ticks\":\"\"},\"colorscale\":[[0.0,\"#0d0887\"],[0.1111111111111111,\"#46039f\"],[0.2222222222222222,\"#7201a8\"],[0.3333333333333333,\"#9c179e\"],[0.4444444444444444,\"#bd3786\"],[0.5555555555555556,\"#d8576b\"],[0.6666666666666666,\"#ed7953\"],[0.7777777777777778,\"#fb9f3a\"],[0.8888888888888888,\"#fdca26\"],[1.0,\"#f0f921\"]]}],\"surface\":[{\"type\":\"surface\",\"colorbar\":{\"outlinewidth\":0,\"ticks\":\"\"},\"colorscale\":[[0.0,\"#0d0887\"],[0.1111111111111111,\"#46039f\"],[0.2222222222222222,\"#7201a8\"],[0.3333333333333333,\"#9c179e\"],[0.4444444444444444,\"#bd3786\"],[0.5555555555555556,\"#d8576b\"],[0.6666666666666666,\"#ed7953\"],[0.7777777777777778,\"#fb9f3a\"],[0.8888888888888888,\"#fdca26\"],[1.0,\"#f0f921\"]]}],\"mesh3d\":[{\"type\":\"mesh3d\",\"colorbar\":{\"outlinewidth\":0,\"ticks\":\"\"}}],\"scatter\":[{\"fillpattern\":{\"fillmode\":\"overlay\",\"size\":10,\"solidity\":0.2},\"type\":\"scatter\"}],\"parcoords\":[{\"type\":\"parcoords\",\"line\":{\"colorbar\":{\"outlinewidth\":0,\"ticks\":\"\"}}}],\"scatterpolargl\":[{\"type\":\"scatterpolargl\",\"marker\":{\"colorbar\":{\"outlinewidth\":0,\"ticks\":\"\"}}}],\"bar\":[{\"error_x\":{\"color\":\"#2a3f5f\"},\"error_y\":{\"color\":\"#2a3f5f\"},\"marker\":{\"line\":{\"color\":\"#E5ECF6\",\"width\":0.5},\"pattern\":{\"fillmode\":\"overlay\",\"size\":10,\"solidity\":0.2}},\"type\":\"bar\"}],\"scattergeo\":[{\"type\":\"scattergeo\",\"marker\":{\"colorbar\":{\"outlinewidth\":0,\"ticks\":\"\"}}}],\"scatterpolar\":[{\"type\":\"scatterpolar\",\"marker\":{\"colorbar\":{\"outlinewidth\":0,\"ticks\":\"\"}}}],\"histogram\":[{\"marker\":{\"pattern\":{\"fillmode\":\"overlay\",\"size\":10,\"solidity\":0.2}},\"type\":\"histogram\"}],\"scattergl\":[{\"type\":\"scattergl\",\"marker\":{\"colorbar\":{\"outlinewidth\":0,\"ticks\":\"\"}}}],\"scatter3d\":[{\"type\":\"scatter3d\",\"line\":{\"colorbar\":{\"outlinewidth\":0,\"ticks\":\"\"}},\"marker\":{\"colorbar\":{\"outlinewidth\":0,\"ticks\":\"\"}}}],\"scattermapbox\":[{\"type\":\"scattermapbox\",\"marker\":{\"colorbar\":{\"outlinewidth\":0,\"ticks\":\"\"}}}],\"scatterternary\":[{\"type\":\"scatterternary\",\"marker\":{\"colorbar\":{\"outlinewidth\":0,\"ticks\":\"\"}}}],\"scattercarpet\":[{\"type\":\"scattercarpet\",\"marker\":{\"colorbar\":{\"outlinewidth\":0,\"ticks\":\"\"}}}],\"carpet\":[{\"aaxis\":{\"endlinecolor\":\"#2a3f5f\",\"gridcolor\":\"white\",\"linecolor\":\"white\",\"minorgridcolor\":\"white\",\"startlinecolor\":\"#2a3f5f\"},\"baxis\":{\"endlinecolor\":\"#2a3f5f\",\"gridcolor\":\"white\",\"linecolor\":\"white\",\"minorgridcolor\":\"white\",\"startlinecolor\":\"#2a3f5f\"},\"type\":\"carpet\"}],\"table\":[{\"cells\":{\"fill\":{\"color\":\"#EBF0F8\"},\"line\":{\"color\":\"white\"}},\"header\":{\"fill\":{\"color\":\"#C8D4E3\"},\"line\":{\"color\":\"white\"}},\"type\":\"table\"}],\"barpolar\":[{\"marker\":{\"line\":{\"color\":\"#E5ECF6\",\"width\":0.5},\"pattern\":{\"fillmode\":\"overlay\",\"size\":10,\"solidity\":0.2}},\"type\":\"barpolar\"}],\"pie\":[{\"automargin\":true,\"type\":\"pie\"}]},\"layout\":{\"autotypenumbers\":\"strict\",\"colorway\":[\"#636efa\",\"#EF553B\",\"#00cc96\",\"#ab63fa\",\"#FFA15A\",\"#19d3f3\",\"#FF6692\",\"#B6E880\",\"#FF97FF\",\"#FECB52\"],\"font\":{\"color\":\"#2a3f5f\"},\"hovermode\":\"closest\",\"hoverlabel\":{\"align\":\"left\"},\"paper_bgcolor\":\"white\",\"plot_bgcolor\":\"#E5ECF6\",\"polar\":{\"bgcolor\":\"#E5ECF6\",\"angularaxis\":{\"gridcolor\":\"white\",\"linecolor\":\"white\",\"ticks\":\"\"},\"radialaxis\":{\"gridcolor\":\"white\",\"linecolor\":\"white\",\"ticks\":\"\"}},\"ternary\":{\"bgcolor\":\"#E5ECF6\",\"aaxis\":{\"gridcolor\":\"white\",\"linecolor\":\"white\",\"ticks\":\"\"},\"baxis\":{\"gridcolor\":\"white\",\"linecolor\":\"white\",\"ticks\":\"\"},\"caxis\":{\"gridcolor\":\"white\",\"linecolor\":\"white\",\"ticks\":\"\"}},\"coloraxis\":{\"colorbar\":{\"outlinewidth\":0,\"ticks\":\"\"}},\"colorscale\":{\"sequential\":[[0.0,\"#0d0887\"],[0.1111111111111111,\"#46039f\"],[0.2222222222222222,\"#7201a8\"],[0.3333333333333333,\"#9c179e\"],[0.4444444444444444,\"#bd3786\"],[0.5555555555555556,\"#d8576b\"],[0.6666666666666666,\"#ed7953\"],[0.7777777777777778,\"#fb9f3a\"],[0.8888888888888888,\"#fdca26\"],[1.0,\"#f0f921\"]],\"sequentialminus\":[[0.0,\"#0d0887\"],[0.1111111111111111,\"#46039f\"],[0.2222222222222222,\"#7201a8\"],[0.3333333333333333,\"#9c179e\"],[0.4444444444444444,\"#bd3786\"],[0.5555555555555556,\"#d8576b\"],[0.6666666666666666,\"#ed7953\"],[0.7777777777777778,\"#fb9f3a\"],[0.8888888888888888,\"#fdca26\"],[1.0,\"#f0f921\"]],\"diverging\":[[0,\"#8e0152\"],[0.1,\"#c51b7d\"],[0.2,\"#de77ae\"],[0.3,\"#f1b6da\"],[0.4,\"#fde0ef\"],[0.5,\"#f7f7f7\"],[0.6,\"#e6f5d0\"],[0.7,\"#b8e186\"],[0.8,\"#7fbc41\"],[0.9,\"#4d9221\"],[1,\"#276419\"]]},\"xaxis\":{\"gridcolor\":\"white\",\"linecolor\":\"white\",\"ticks\":\"\",\"title\":{\"standoff\":15},\"zerolinecolor\":\"white\",\"automargin\":true,\"zerolinewidth\":2},\"yaxis\":{\"gridcolor\":\"white\",\"linecolor\":\"white\",\"ticks\":\"\",\"title\":{\"standoff\":15},\"zerolinecolor\":\"white\",\"automargin\":true,\"zerolinewidth\":2},\"scene\":{\"xaxis\":{\"backgroundcolor\":\"#E5ECF6\",\"gridcolor\":\"white\",\"linecolor\":\"white\",\"showbackground\":true,\"ticks\":\"\",\"zerolinecolor\":\"white\",\"gridwidth\":2},\"yaxis\":{\"backgroundcolor\":\"#E5ECF6\",\"gridcolor\":\"white\",\"linecolor\":\"white\",\"showbackground\":true,\"ticks\":\"\",\"zerolinecolor\":\"white\",\"gridwidth\":2},\"zaxis\":{\"backgroundcolor\":\"#E5ECF6\",\"gridcolor\":\"white\",\"linecolor\":\"white\",\"showbackground\":true,\"ticks\":\"\",\"zerolinecolor\":\"white\",\"gridwidth\":2}},\"shapedefaults\":{\"line\":{\"color\":\"#2a3f5f\"}},\"annotationdefaults\":{\"arrowcolor\":\"#2a3f5f\",\"arrowhead\":0,\"arrowwidth\":1},\"geo\":{\"bgcolor\":\"white\",\"landcolor\":\"#E5ECF6\",\"subunitcolor\":\"white\",\"showland\":true,\"showlakes\":true,\"lakecolor\":\"white\"},\"title\":{\"x\":0.05},\"mapbox\":{\"style\":\"light\"}}}},                        {\"responsive\": true}                    ).then(function(){\n",
       "                            \n",
       "var gd = document.getElementById('cc1da068-891e-4ff2-922d-9f7474fb045f');\n",
       "var x = new MutationObserver(function (mutations, observer) {{\n",
       "        var display = window.getComputedStyle(gd).display;\n",
       "        if (!display || display === 'none') {{\n",
       "            console.log([gd, 'removed!']);\n",
       "            Plotly.purge(gd);\n",
       "            observer.disconnect();\n",
       "        }}\n",
       "}});\n",
       "\n",
       "// Listen for the removal of the full notebook cells\n",
       "var notebookContainer = gd.closest('#notebook-container');\n",
       "if (notebookContainer) {{\n",
       "    x.observe(notebookContainer, {childList: true});\n",
       "}}\n",
       "\n",
       "// Listen for the clearing of the current output cell\n",
       "var outputEl = gd.closest('.output');\n",
       "if (outputEl) {{\n",
       "    x.observe(outputEl, {childList: true});\n",
       "}}\n",
       "\n",
       "                        })                };                });            </script>        </div>"
      ]
     },
     "metadata": {},
     "output_type": "display_data"
    }
   ],
   "source": [
    "fig = ff.create_distplot([duration_data], ['distplot'])\n",
    "fig.show()"
   ]
  },
  {
   "attachments": {},
   "cell_type": "markdown",
   "metadata": {},
   "source": [
    "## Get Sample Statistics"
   ]
  },
  {
   "cell_type": "code",
   "execution_count": 39,
   "metadata": {},
   "outputs": [
    {
     "data": {
      "text/plain": [
       "{'std': 12.377061182740993,\n",
       " 'median': 139.0,\n",
       " 'mean': 140.65934065934067,\n",
       " 'min': 117,\n",
       " 'max': 200,\n",
       " 'n': 91}"
      ]
     },
     "execution_count": 39,
     "metadata": {},
     "output_type": "execute_result"
    }
   ],
   "source": [
    "get_data_statistics(duration_data)"
   ]
  }
 ],
 "metadata": {
  "kernelspec": {
   "display_name": "env",
   "language": "python",
   "name": "python3"
  },
  "language_info": {
   "codemirror_mode": {
    "name": "ipython",
    "version": 3
   },
   "file_extension": ".py",
   "mimetype": "text/x-python",
   "name": "python",
   "nbconvert_exporter": "python",
   "pygments_lexer": "ipython3",
   "version": "3.10.9"
  },
  "orig_nbformat": 4,
  "vscode": {
   "interpreter": {
    "hash": "735058d48b6f85fdc9f498170b0239837dbbd6370e68173c2c4540a0c736e046"
   }
  }
 },
 "nbformat": 4,
 "nbformat_minor": 2
}
